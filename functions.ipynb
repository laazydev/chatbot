{
 "cells": [
  {
   "cell_type": "markdown",
   "metadata": {},
   "source": [
    "# List of functions needed for the Chatbot\n",
    "This file contains the development of functions required for the chatbot\n",
    "\n",
    "### Intent reading function\n",
    "- Preprocessing: Includes **Lowering all characters, Removing punctuations and stopwords**, then, **Lemmatize the sentence**.\n",
    "- GetIntentRank: This return the highest intents from the sentence.\n",
    "\n",
    "*Note: If there are two or more intents, further processing is required*\n",
    "- IntentProcessing: From the intent available, call the functions for further processing\n",
    "\n",
    "### Classes\n",
    "There will be classes assigned for each **Order** and **Person**, and will be assigned as a class. The class details are as follows.\n",
    "\n",
    "- Person\n",
    "```\n",
    "Name: String\n",
    "Phone: String\n",
    "Address: String\n",
    "```\n",
    "\n"
   ]
  },
  {
   "cell_type": "code",
   "execution_count": 46,
   "metadata": {},
   "outputs": [
    {
     "name": "stdout",
     "output_type": "stream",
     "text": [
      "   id              name       phone               address\n",
      "0   1          jeconiah  7769585517   6 Graystacks NG71GY\n",
      "1   2  calvin scorpiano  7287922576  6 Graystacks NG71 GY\n"
     ]
    }
   ],
   "source": [
    "# Beginning of Chatbot\n",
    "import pandas as pd\n",
    "\n",
    "df = pd.read_csv('database/customer.csv')\n",
    "\n",
    "print(df)"
   ]
  },
  {
   "cell_type": "code",
   "execution_count": 43,
   "metadata": {},
   "outputs": [],
   "source": [
    "# Data to append to\n",
    "\n",
    "def NewCustomer(name, phone, address):\n",
    "    # Read the latest CSV\n",
    "    df = pd.read_csv('database/customer.csv')\n",
    "    \n",
    "    # Get the last index, then plus 1\n",
    "    newId = df.iloc[-1, 0] + 1\n",
    "    data = {\n",
    "        'id': newId,\n",
    "        'name': name.lower(),\n",
    "        'phone': str(phone),\n",
    "        'address': address\n",
    "    }\n",
    "\n",
    "    # Convert the Dictionary to DataFrame\n",
    "    toAppend = pd.DataFrame(data, index=[1])\n",
    "\n",
    "    # Append the dataframe to tht CSV\n",
    "    toAppend.to_csv('database/customer.csv', mode='a', index=False, header=False)\n"
   ]
  },
  {
   "cell_type": "code",
   "execution_count": 45,
   "metadata": {},
   "outputs": [],
   "source": [
    "# Testing the newCustomer Function to create new Customer\n",
    "\n",
    "NewCustomer('Calvin Scorpiano', '07287922576', '6 Graystacks NG71 GY')\n",
    "# Tested and worked!"
   ]
  },
  {
   "cell_type": "code",
   "execution_count": 108,
   "metadata": {},
   "outputs": [],
   "source": [
    "def GetCustomer(phone):\n",
    "    df = pd.read_csv('database/customer.csv')\n",
    "\n",
    "    for idrange in range(len(df)):\n",
    "        if df.iloc[idrange, 2] == int(phone):\n",
    "            return df.iloc[idrange, 1], df.iloc[idrange, 3]\n",
    "        else:\n",
    "            pass"
   ]
  },
  {
   "cell_type": "code",
   "execution_count": 111,
   "metadata": {},
   "outputs": [
    {
     "name": "stdout",
     "output_type": "stream",
     "text": [
      "('jeconiah', '6 Graystacks NG71GY')\n"
     ]
    }
   ],
   "source": [
    "# Testing Get Customer based on phone number\n",
    "\n",
    "print(GetCustomer('7769585517'))\n",
    "# Tested and worked!"
   ]
  },
  {
   "cell_type": "code",
   "execution_count": 4,
   "metadata": {},
   "outputs": [],
   "source": [
    "# Function to check UK Phone Number\n",
    "\n",
    "def checkPhone(number):\n",
    "    # Error = 0\n",
    "    # True = 1\n",
    "\n",
    "    if number[0] == '0':\n",
    "        number = number[1:]\n",
    "    \n",
    "    if len(number) == 10:\n",
    "        return 1, number\n",
    "    else:\n",
    "        return 0, number"
   ]
  },
  {
   "cell_type": "code",
   "execution_count": 5,
   "metadata": {},
   "outputs": [
    {
     "name": "stdout",
     "output_type": "stream",
     "text": [
      "(1, '7769585517')\n"
     ]
    }
   ],
   "source": [
    "# Testing for checking UK Number\n",
    "print(checkPhone('07769585517'))\n",
    "\n",
    "# Tested and worked!\n"
   ]
  },
  {
   "cell_type": "code",
   "execution_count": 18,
   "metadata": {},
   "outputs": [
    {
     "name": "stderr",
     "output_type": "stream",
     "text": [
      "[nltk_data] Downloading package stopwords to /Users/jr/nltk_data...\n",
      "[nltk_data]   Package stopwords is already up-to-date!\n"
     ]
    }
   ],
   "source": [
    "# Function to get intent of raw conversation\n",
    "\n",
    "## Import libraries\n",
    "import nltk\n",
    "from nltk.corpus import stopwords\n",
    "nltk.download('stopwords')\n",
    "stopwords = stopwords.words('english')\n",
    "\n",
    "# Remove negation\n",
    "stopwords.remove('not')\n",
    "stopwords.remove('with')\n",
    "\n",
    "from nltk.tokenize import word_tokenize\n",
    "import string\n",
    "\n",
    "# Preprocess the intent\n",
    "def preprocess(textinput):\n",
    "    # Lower all characters\n",
    "    textinput = textinput.lower()\n",
    "\n",
    "    # Remove punctuations\n",
    "    string.punctuation = string.punctuation + '-'\n",
    "    text_filtered = ''.join([char for char in textinput if char not in string.punctuation])\n",
    "\n",
    "    # Tokenize the word\n",
    "    text_tokens = word_tokenize(text_filtered)\n",
    "\n",
    "    # Remove stopword from the text\n",
    "    tokens_without_sw = [word for word in text_tokens if word.lower() not in stopwords]\n",
    "\n",
    "    # Removing any stopwords from the sentence\n",
    "    filtered_sentence = (\" \").join(tokens_without_sw)\n",
    "\n",
    "    post = nltk.pos_tag(word_tokenize(filtered_sentence), tagset='universal') \n",
    "    return post"
   ]
  },
  {
   "cell_type": "code",
   "execution_count": 19,
   "metadata": {},
   "outputs": [
    {
     "data": {
      "text/plain": [
       "[('want', 'VERB'),\n",
       " ('one', 'NUM'),\n",
       " ('large', 'ADJ'),\n",
       " ('pizza', 'NOUN'),\n",
       " ('please', 'NOUN')]"
      ]
     },
     "execution_count": 19,
     "metadata": {},
     "output_type": "execute_result"
    }
   ],
   "source": [
    "# Testing to to get \n",
    "preprocess('i want to have one large pizza please')\n",
    "# Tested and worked"
   ]
  },
  {
   "cell_type": "code",
   "execution_count": 45,
   "metadata": {},
   "outputs": [],
   "source": [
    "# Check whether the input is inputting one pizza at once\n",
    "def checkNumber(text):\n",
    "    oneTrigger = ['one', '1']\n",
    "    for i in text:\n",
    "        if i[1] == 'NUM':\n",
    "            # Only allow one order at a time\n",
    "            if i[0] in oneTrigger:\n",
    "                return True\n",
    "            else: \n",
    "                return False"
   ]
  },
  {
   "cell_type": "code",
   "execution_count": 48,
   "metadata": {},
   "outputs": [
    {
     "data": {
      "text/plain": [
       "True"
      ]
     },
     "execution_count": 48,
     "metadata": {},
     "output_type": "execute_result"
    }
   ],
   "source": [
    "checkNumber(preprocess('i want one pepperoni pizza'))\n",
    "# Tested and worked!"
   ]
  }
 ],
 "metadata": {
  "kernelspec": {
   "display_name": "Python 3.9.12 ('venv': venv)",
   "language": "python",
   "name": "python3"
  },
  "language_info": {
   "codemirror_mode": {
    "name": "ipython",
    "version": 3
   },
   "file_extension": ".py",
   "mimetype": "text/x-python",
   "name": "python",
   "nbconvert_exporter": "python",
   "pygments_lexer": "ipython3",
   "version": "3.9.12"
  },
  "orig_nbformat": 4,
  "vscode": {
   "interpreter": {
    "hash": "b4dc0063afee51790d21509908861b8c67a34e8f41aa380f61f8bce3c0d0317f"
   }
  }
 },
 "nbformat": 4,
 "nbformat_minor": 2
}
