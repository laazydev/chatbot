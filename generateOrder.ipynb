{
 "cells": [
  {
   "cell_type": "code",
   "execution_count": 1,
   "metadata": {},
   "outputs": [],
   "source": [
    "import pandas as pd"
   ]
  },
  {
   "cell_type": "code",
   "execution_count": 7,
   "metadata": {},
   "outputs": [
    {
     "name": "stdout",
     "output_type": "stream",
     "text": [
      "<class 'pandas.core.frame.DataFrame'>\n",
      "RangeIndex: 100 entries, 0 to 99\n",
      "Data columns (total 4 columns):\n",
      " #   Column      Non-Null Count  Dtype \n",
      "---  ------      --------------  ----- \n",
      " 0   First Name  100 non-null    object\n",
      " 1   Last Name   100 non-null    object\n",
      " 2   Number      100 non-null    int64 \n",
      " 3   Address     100 non-null    object\n",
      "dtypes: int64(1), object(3)\n",
      "memory usage: 3.2+ KB\n",
      "None\n"
     ]
    }
   ],
   "source": [
    "randPeople = pd.read_csv('dummyData/randomPeople.csv')\n",
    "\n",
    "print(randPeople.info())"
   ]
  },
  {
   "cell_type": "code",
   "execution_count": 18,
   "metadata": {},
   "outputs": [
    {
     "name": "stdout",
     "output_type": "stream",
     "text": [
      "   First Name Last Name      Number     Address  userID\n",
      "0      George   Chapman  9738616977  y2bgjhk4cq       0\n",
      "1      Carlos     Casey  8005416664  1okbjeld21       1\n",
      "2     Arianna   Stewart  1110792507  23qde0tpis       2\n",
      "3        Tess      West  1420451092  xd7pzzu2gf       3\n",
      "4      Carlos  Sullivan  8312688916  lrhidf6e2i       4\n",
      "..        ...       ...         ...         ...     ...\n",
      "95       Maya      Reed  9900488343  7v5c6udu5v      95\n",
      "96  Alexander    Rogers  9207755780  n75lwjduuv      96\n",
      "97    Jessica    Barnes  3921213963  bxvmttipgd      97\n",
      "98       Kate  Morrison  3478483688  ffkft5c8wp      98\n",
      "99      April     Riley  1437934984  kf93ue4w6u      99\n",
      "\n",
      "[100 rows x 5 columns]\n"
     ]
    }
   ],
   "source": [
    "userID = [i for i in range(100)]\n",
    "\n",
    "randPeople['userID'] = userID\n",
    "\n",
    "print(randPeople)"
   ]
  },
  {
   "cell_type": "code",
   "execution_count": 49,
   "metadata": {},
   "outputs": [],
   "source": [
    "import random\n",
    "\n",
    "orderSample = []\n",
    "\n",
    "pizza = pd.read_csv('pizza.csv', sep=';', index_col=0)\n",
    "\n",
    "# Get 100 samples of pizza order, with 70% ordering 1 pizza, 30% ordering 2 pizzas\n",
    "numberPizza = ['one', 'two']\n",
    "temp = random.choices(numberPizza, weights=(70, 30), k=100)\n",
    "\n",
    "for i in temp:\n",
    "    if i == 'one':\n",
    "        orderSample.append(pizza['pizzaName'].sample(n=1).values[0])\n",
    "    if i == 'two':\n",
    "        orderSample.append(list([pizza['pizzaName'].sample(n=1).values[0], pizza['pizzaName'].sample(n=1).values[0]]))\n"
   ]
  },
  {
   "cell_type": "code",
   "execution_count": 64,
   "metadata": {},
   "outputs": [
    {
     "data": {
      "text/plain": [
       "['BBQ Steak and Chicken Flatbread', 'Chicken Sizzler']"
      ]
     },
     "execution_count": 64,
     "metadata": {},
     "output_type": "execute_result"
    }
   ],
   "source": [
    "list([pizza['pizzaName'].sample(n=1).values[0], pizza['pizzaName'].sample(n=1).values[0]])"
   ]
  },
  {
   "cell_type": "code",
   "execution_count": 62,
   "metadata": {},
   "outputs": [
    {
     "data": {
      "text/html": [
       "<div>\n",
       "<style scoped>\n",
       "    .dataframe tbody tr th:only-of-type {\n",
       "        vertical-align: middle;\n",
       "    }\n",
       "\n",
       "    .dataframe tbody tr th {\n",
       "        vertical-align: top;\n",
       "    }\n",
       "\n",
       "    .dataframe thead th {\n",
       "        text-align: right;\n",
       "    }\n",
       "</style>\n",
       "<table border=\"1\" class=\"dataframe\">\n",
       "  <thead>\n",
       "    <tr style=\"text-align: right;\">\n",
       "      <th></th>\n",
       "      <th>First Name</th>\n",
       "      <th>Last Name</th>\n",
       "      <th>Number</th>\n",
       "      <th>Address</th>\n",
       "      <th>userID</th>\n",
       "      <th>order</th>\n",
       "    </tr>\n",
       "  </thead>\n",
       "  <tbody>\n",
       "    <tr>\n",
       "      <th>0</th>\n",
       "      <td>George</td>\n",
       "      <td>Chapman</td>\n",
       "      <td>9738616977</td>\n",
       "      <td>y2bgjhk4cq</td>\n",
       "      <td>0</td>\n",
       "      <td>BBQ Meat Feast</td>\n",
       "    </tr>\n",
       "    <tr>\n",
       "      <th>1</th>\n",
       "      <td>Carlos</td>\n",
       "      <td>Casey</td>\n",
       "      <td>8005416664</td>\n",
       "      <td>1okbjeld21</td>\n",
       "      <td>1</td>\n",
       "      <td>Vegan Margherita</td>\n",
       "    </tr>\n",
       "    <tr>\n",
       "      <th>2</th>\n",
       "      <td>Arianna</td>\n",
       "      <td>Stewart</td>\n",
       "      <td>1110792507</td>\n",
       "      <td>23qde0tpis</td>\n",
       "      <td>2</td>\n",
       "      <td>Vegan Margherita</td>\n",
       "    </tr>\n",
       "    <tr>\n",
       "      <th>3</th>\n",
       "      <td>Tess</td>\n",
       "      <td>West</td>\n",
       "      <td>1420451092</td>\n",
       "      <td>xd7pzzu2gf</td>\n",
       "      <td>3</td>\n",
       "      <td>Supreme</td>\n",
       "    </tr>\n",
       "    <tr>\n",
       "      <th>4</th>\n",
       "      <td>Carlos</td>\n",
       "      <td>Sullivan</td>\n",
       "      <td>8312688916</td>\n",
       "      <td>lrhidf6e2i</td>\n",
       "      <td>4</td>\n",
       "      <td>Vegan Margherita</td>\n",
       "    </tr>\n",
       "    <tr>\n",
       "      <th>...</th>\n",
       "      <td>...</td>\n",
       "      <td>...</td>\n",
       "      <td>...</td>\n",
       "      <td>...</td>\n",
       "      <td>...</td>\n",
       "      <td>...</td>\n",
       "    </tr>\n",
       "    <tr>\n",
       "      <th>95</th>\n",
       "      <td>Maya</td>\n",
       "      <td>Reed</td>\n",
       "      <td>9900488343</td>\n",
       "      <td>7v5c6udu5v</td>\n",
       "      <td>95</td>\n",
       "      <td>Vegan Veg Sizzler</td>\n",
       "    </tr>\n",
       "    <tr>\n",
       "      <th>96</th>\n",
       "      <td>Alexander</td>\n",
       "      <td>Rogers</td>\n",
       "      <td>9207755780</td>\n",
       "      <td>n75lwjduuv</td>\n",
       "      <td>96</td>\n",
       "      <td>Chicken Supreme</td>\n",
       "    </tr>\n",
       "    <tr>\n",
       "      <th>97</th>\n",
       "      <td>Jessica</td>\n",
       "      <td>Barnes</td>\n",
       "      <td>3921213963</td>\n",
       "      <td>bxvmttipgd</td>\n",
       "      <td>97</td>\n",
       "      <td>BBQ Meat Feast</td>\n",
       "    </tr>\n",
       "    <tr>\n",
       "      <th>98</th>\n",
       "      <td>Kate</td>\n",
       "      <td>Morrison</td>\n",
       "      <td>3478483688</td>\n",
       "      <td>ffkft5c8wp</td>\n",
       "      <td>98</td>\n",
       "      <td>Margherita</td>\n",
       "    </tr>\n",
       "    <tr>\n",
       "      <th>99</th>\n",
       "      <td>April</td>\n",
       "      <td>Riley</td>\n",
       "      <td>1437934984</td>\n",
       "      <td>kf93ue4w6u</td>\n",
       "      <td>99</td>\n",
       "      <td>Loaded Pepperoni Feast with Triple Cheese Blend</td>\n",
       "    </tr>\n",
       "  </tbody>\n",
       "</table>\n",
       "<p>100 rows × 6 columns</p>\n",
       "</div>"
      ],
      "text/plain": [
       "   First Name Last Name      Number     Address  userID  \\\n",
       "0      George   Chapman  9738616977  y2bgjhk4cq       0   \n",
       "1      Carlos     Casey  8005416664  1okbjeld21       1   \n",
       "2     Arianna   Stewart  1110792507  23qde0tpis       2   \n",
       "3        Tess      West  1420451092  xd7pzzu2gf       3   \n",
       "4      Carlos  Sullivan  8312688916  lrhidf6e2i       4   \n",
       "..        ...       ...         ...         ...     ...   \n",
       "95       Maya      Reed  9900488343  7v5c6udu5v      95   \n",
       "96  Alexander    Rogers  9207755780  n75lwjduuv      96   \n",
       "97    Jessica    Barnes  3921213963  bxvmttipgd      97   \n",
       "98       Kate  Morrison  3478483688  ffkft5c8wp      98   \n",
       "99      April     Riley  1437934984  kf93ue4w6u      99   \n",
       "\n",
       "                                              order  \n",
       "0                                    BBQ Meat Feast  \n",
       "1                                  Vegan Margherita  \n",
       "2                                  Vegan Margherita  \n",
       "3                                           Supreme  \n",
       "4                                  Vegan Margherita  \n",
       "..                                              ...  \n",
       "95                                Vegan Veg Sizzler  \n",
       "96                                  Chicken Supreme  \n",
       "97                                   BBQ Meat Feast  \n",
       "98                                       Margherita  \n",
       "99  Loaded Pepperoni Feast with Triple Cheese Blend  \n",
       "\n",
       "[100 rows x 6 columns]"
      ]
     },
     "execution_count": 62,
     "metadata": {},
     "output_type": "execute_result"
    }
   ],
   "source": [
    "randPeople['order'] = orderSample\n",
    "\n",
    "randPeople"
   ]
  }
 ],
 "metadata": {
  "kernelspec": {
   "display_name": "Python 3.9.12 ('venv': venv)",
   "language": "python",
   "name": "python3"
  },
  "language_info": {
   "codemirror_mode": {
    "name": "ipython",
    "version": 3
   },
   "file_extension": ".py",
   "mimetype": "text/x-python",
   "name": "python",
   "nbconvert_exporter": "python",
   "pygments_lexer": "ipython3",
   "version": "3.9.12"
  },
  "orig_nbformat": 4,
  "vscode": {
   "interpreter": {
    "hash": "b4dc0063afee51790d21509908861b8c67a34e8f41aa380f61f8bce3c0d0317f"
   }
  }
 },
 "nbformat": 4,
 "nbformat_minor": 2
}
