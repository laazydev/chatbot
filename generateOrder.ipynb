{
 "cells": [
  {
   "cell_type": "code",
   "execution_count": 1,
   "metadata": {},
   "outputs": [],
   "source": [
    "# Import pandas\n",
    "import pandas as pd"
   ]
  },
  {
   "cell_type": "code",
   "execution_count": 7,
   "metadata": {},
   "outputs": [
    {
     "name": "stdout",
     "output_type": "stream",
     "text": [
      "<class 'pandas.core.frame.DataFrame'>\n",
      "RangeIndex: 100 entries, 0 to 99\n",
      "Data columns (total 4 columns):\n",
      " #   Column      Non-Null Count  Dtype \n",
      "---  ------      --------------  ----- \n",
      " 0   First Name  100 non-null    object\n",
      " 1   Last Name   100 non-null    object\n",
      " 2   Number      100 non-null    int64 \n",
      " 3   Address     100 non-null    object\n",
      "dtypes: int64(1), object(3)\n",
      "memory usage: 3.2+ KB\n",
      "None\n"
     ]
    }
   ],
   "source": [
    "# Read initial CSV containing: First Name, Last Name, Phone Number, Address\n",
    "randPeople = pd.read_csv('dummyData/randomPeople.csv')\n",
    "\n",
    "print(randPeople.info())"
   ]
  },
  {
   "cell_type": "code",
   "execution_count": 89,
   "metadata": {},
   "outputs": [],
   "source": [
    "# Add user ID to the people\n",
    "userID = [i for i in range(100)]\n",
    "\n",
    "randPeople['userID'] = userID"
   ]
  },
  {
   "cell_type": "code",
   "execution_count": 83,
   "metadata": {},
   "outputs": [],
   "source": [
    "import random\n",
    "\n",
    "# Prepare list to be appended to the DataFrame\n",
    "pizzaAmount = []\n",
    "orderSample = []\n",
    "\n",
    "pizza = pd.read_csv('pizza.csv', sep=';', index_col=0)\n",
    "\n",
    "# Get 100 samples of pizza order, with 70% ordering 1 pizza, 30% ordering 2 pizzas\n",
    "numberPizza = ['one', 'two']\n",
    "temp = random.choices(numberPizza, weights=(70, 30), k=100)\n",
    "\n",
    "for i in temp:\n",
    "    if i == 'one':\n",
    "        pizzaAmount.append(1)\n",
    "        orderSample.append(pizza['pizzaName'].sample(n=1).values[0])\n",
    "    if i == 'two':\n",
    "        pizzaAmount.append(2)\n",
    "        orderSample.append(f\"{pizza['pizzaName'].sample(n=1).values[0]}, {pizza['pizzaName'].sample(n=1).values[0]}\")\n"
   ]
  },
  {
   "cell_type": "code",
   "execution_count": 84,
   "metadata": {},
   "outputs": [],
   "source": [
    "# Add the column to the Data Frame\n",
    "randPeople['pizzaAmount'] = pizzaAmount\n",
    "randPeople['order'] = orderSample"
   ]
  },
  {
   "cell_type": "code",
   "execution_count": 88,
   "metadata": {},
   "outputs": [
    {
     "name": "stdout",
     "output_type": "stream",
     "text": [
      "<class 'pandas.core.frame.DataFrame'>\n",
      "RangeIndex: 100 entries, 0 to 99\n",
      "Data columns (total 7 columns):\n",
      " #   Column       Non-Null Count  Dtype \n",
      "---  ------       --------------  ----- \n",
      " 0   First Name   100 non-null    object\n",
      " 1   Last Name    100 non-null    object\n",
      " 2   Number       100 non-null    int64 \n",
      " 3   Address      100 non-null    object\n",
      " 4   userID       100 non-null    int64 \n",
      " 5   pizzaAmount  100 non-null    int64 \n",
      " 6   order        100 non-null    object\n",
      "dtypes: int64(3), object(4)\n",
      "memory usage: 5.6+ KB\n"
     ]
    }
   ],
   "source": [
    "# New Data Frame Information\n",
    "randPeople.info()"
   ]
  },
  {
   "cell_type": "code",
   "execution_count": 91,
   "metadata": {},
   "outputs": [
    {
     "name": "stdout",
     "output_type": "stream",
     "text": [
      "<class 'pandas.core.frame.DataFrame'>\n",
      "RangeIndex: 100 entries, 0 to 99\n",
      "Data columns (total 7 columns):\n",
      " #   Column       Non-Null Count  Dtype \n",
      "---  ------       --------------  ----- \n",
      " 0   userID       100 non-null    int64 \n",
      " 1   First Name   100 non-null    object\n",
      " 2   Last Name    100 non-null    object\n",
      " 3   Number       100 non-null    int64 \n",
      " 4   Address      100 non-null    object\n",
      " 5   pizzaAmount  100 non-null    int64 \n",
      " 6   order        100 non-null    object\n",
      "dtypes: int64(3), object(4)\n",
      "memory usage: 5.6+ KB\n",
      "None\n"
     ]
    }
   ],
   "source": [
    "# Rearranging the column orders\n",
    "new_cols = ['userID', 'First Name', 'Last Name', 'Number', 'Address', 'pizzaAmount', 'order']\n",
    "randPeople = randPeople[new_cols]\n",
    "print(randPeople.info())"
   ]
  },
  {
   "cell_type": "code",
   "execution_count": 108,
   "metadata": {},
   "outputs": [],
   "source": [
    "# Get all the pizza order to one list\n",
    "listOfAllPizza = []\n",
    "\n",
    "for i in randPeople.order:\n",
    "    if ',' in i:\n",
    "        [listOfAllPizza.append(j) for j in i.split(',')]\n",
    "    else:\n",
    "        listOfAllPizza.append(i)"
   ]
  },
  {
   "cell_type": "code",
   "execution_count": 128,
   "metadata": {},
   "outputs": [
    {
     "name": "stdout",
     "output_type": "stream",
     "text": [
      "('Texan BBQ', 10)\n"
     ]
    }
   ],
   "source": [
    "# Import library\n",
    "from collections import Counter\n",
    "\n",
    "# Get the most ordered pizza\n",
    "Counter(listOfAllPizza).most_common(1)[0]"
   ]
  }
 ],
 "metadata": {
  "kernelspec": {
   "display_name": "Python 3.9.12 ('venv': venv)",
   "language": "python",
   "name": "python3"
  },
  "language_info": {
   "codemirror_mode": {
    "name": "ipython",
    "version": 3
   },
   "file_extension": ".py",
   "mimetype": "text/x-python",
   "name": "python",
   "nbconvert_exporter": "python",
   "pygments_lexer": "ipython3",
   "version": "3.9.12"
  },
  "orig_nbformat": 4,
  "vscode": {
   "interpreter": {
    "hash": "b4dc0063afee51790d21509908861b8c67a34e8f41aa380f61f8bce3c0d0317f"
   }
  }
 },
 "nbformat": 4,
 "nbformat_minor": 2
}
