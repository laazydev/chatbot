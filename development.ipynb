{
 "cells": [
  {
   "cell_type": "code",
   "execution_count": null,
   "metadata": {},
   "outputs": [],
   "source": [
    "# User Inputs\n",
    "\n",
    "__input1 = \"Hello! How are you?\"\n",
    "__input2 = \"test chatbot\""
   ]
  },
  {
   "cell_type": "code",
   "execution_count": 10,
   "metadata": {},
   "outputs": [],
   "source": [
    "# Testing json\n",
    "\n",
    "intentJson = {\n",
    "    \"intents\": [\n",
    "        {\n",
    "            \"patterns\": [\"hello how are you\", \"whatsup\"],\n",
    "            \"response\": [\"Hi! How can I help you?\", \"Hello!\"],\n",
    "            \"tag\": [\"smalltalk\"],\n",
    "        },\n",
    "        {\n",
    "            \"patterns\": [\"i want to order a coffee\", \"i want to buy\", \"would love to have a coffee\"],\n",
    "            \"response\": [\"What is your order?\"],\n",
    "            \"tag\": [\"order\"]\n",
    "        }\n",
    "    ]\n",
    "}"
   ]
  },
  {
   "cell_type": "code",
   "execution_count": 98,
   "metadata": {},
   "outputs": [],
   "source": [
    "import math\n",
    "import re\n",
    "from collections import Counter\n",
    "\n",
    "WORD = re.compile(r\"\\w+\")\n",
    "\n",
    "def get_cosine(vec1, vec2):\n",
    "    intersection = set(vec1.keys()) & set(vec2.keys())\n",
    "    numerator = sum([vec1[x] * vec2[x] for x in intersection])\n",
    "\n",
    "    sum1 = sum([vec1[x] ** 2 for x in list(vec1.keys())])\n",
    "    sum2 = sum([vec2[x] ** 2 for x in list(vec2.keys())])\n",
    "    denominator = math.sqrt(sum1) * math.sqrt(sum2)\n",
    "\n",
    "    if not denominator:\n",
    "        return 0.0\n",
    "    else:\n",
    "        return float(numerator) / denominator\n",
    "\n",
    "\n",
    "def text_to_vector(text):\n",
    "    words = WORD.findall(text)\n",
    "    return Counter(words)"
   ]
  },
  {
   "cell_type": "code",
   "execution_count": 99,
   "metadata": {},
   "outputs": [
    {
     "name": "stdout",
     "output_type": "stream",
     "text": [
      "Cosine: 0.0\n"
     ]
    }
   ],
   "source": [
    "# Example to use\n",
    "text1 = \"i want to order a coffee i want to buy a coffee would love to have a coffee\"\n",
    "text2 = \"hello how are you whats up\"\n",
    "\n",
    "vector1 = text_to_vector(text1)\n",
    "vector2 = text_to_vector(text2)\n",
    "\n",
    "cosine = get_cosine(vector1, vector2)\n",
    "\n",
    "print(\"Cosine:\", cosine)"
   ]
  },
  {
   "cell_type": "code",
   "execution_count": 101,
   "metadata": {},
   "outputs": [],
   "source": [
    "import json\n",
    "\n",
    "intentFile = open('./data/intent.json').read()\n",
    "intents = json.loads(intentFile)\n",
    "\n",
    "# Create dictionary of intent\n",
    "# Dictionary value will be in a form of word soup\n",
    "intentDict = {}\n",
    "for i in range(len(intents['intents'])):\n",
    "    for j in intents['intents'][i]['patterns']:\n",
    "        intentDict[intents['intents'][i]['function']] = text_to_vector(' '.join(intents['intents'][i]['patterns']))"
   ]
  },
  {
   "cell_type": "code",
   "execution_count": 102,
   "metadata": {},
   "outputs": [
    {
     "name": "stdout",
     "output_type": "stream",
     "text": [
      "{'hello': Counter({'hi': 2, 'up': 2, 'hello': 1, 'there': 1, 'good': 1, 'morning': 1, 'what': 1, 's': 1, 'whats': 1}), 'weather': Counter({'How': 1, 's': 1, 'the': 1, 'weather': 1, 'today': 1}), 'coffee': Counter({'coffee': 1})}\n"
     ]
    }
   ],
   "source": [
    "# Testing the dictionary function\n",
    "print(intentDict)"
   ]
  },
  {
   "cell_type": "code",
   "execution_count": 103,
   "metadata": {},
   "outputs": [
    {
     "name": "stdout",
     "output_type": "stream",
     "text": [
      "0.31622776601683794\n",
      "0.5477225575051661\n",
      "0.0\n"
     ]
    }
   ],
   "source": [
    "text = 'hello there whats the weather today?'\n",
    "vectorTest = text_to_vector(text)\n",
    "for l in intentDict.keys():\n",
    "    print(get_cosine(vectorTest, intentDict[l]))"
   ]
  },
  {
   "cell_type": "code",
   "execution_count": 109,
   "metadata": {},
   "outputs": [
    {
     "ename": "TypeError",
     "evalue": "'str' object is not callable",
     "output_type": "error",
     "traceback": [
      "\u001b[0;31m---------------------------------------------------------------------------\u001b[0m",
      "\u001b[0;31mTypeError\u001b[0m                                 Traceback (most recent call last)",
      "Cell \u001b[0;32mIn [109], line 25\u001b[0m\n\u001b[1;32m     18\u001b[0m     \u001b[39mreturn\u001b[39;00m \u001b[39m\"\u001b[39m\u001b[39mcoffee\u001b[39m\u001b[39m\"\u001b[39m\n\u001b[1;32m     20\u001b[0m \u001b[39m# # With the key, get the tag from json\u001b[39;00m\n\u001b[1;32m     21\u001b[0m \u001b[39m# for m in range(len(intentDict['intents'])):\u001b[39;00m\n\u001b[1;32m     22\u001b[0m \u001b[39m#     if intentDict['intents'][m]['']\u001b[39;00m\n\u001b[1;32m     23\u001b[0m \u001b[39m# closestVector[0]\u001b[39;00m\n\u001b[0;32m---> 25\u001b[0m closestVector[\u001b[39m0\u001b[39;49m][\u001b[39m1\u001b[39;49m]()\n",
      "\u001b[0;31mTypeError\u001b[0m: 'str' object is not callable"
     ]
    }
   ],
   "source": [
    "# Get the highest similarity, then return tag\n",
    "from operator import itemgetter\n",
    "\n",
    "text = 'i want some coffee please'\n",
    "\n",
    "# Get the highest intent, return the key from dictionary\n",
    "vectorTest = text_to_vector(text)\n",
    "closestVector = sorted([[get_cosine(vectorTest, intentDict[l]),l] for l in intentDict.keys()], key=itemgetter(1))\n",
    "\n",
    "\n",
    "def hello():\n",
    "    return \"hello\"\n",
    "\n",
    "def weather():\n",
    "    return \"weather function\"\n",
    "\n",
    "def coffee():\n",
    "    return \"coffee\"\n",
    "\n",
    "# # With the key, get the tag from json\n",
    "# for m in range(len(intentDict['intents'])):\n",
    "#     if intentDict['intents'][m]['']\n",
    "# closestVector[0]\n",
    "\n",
    "closestVector[0][1]"
   ]
  }
 ],
 "metadata": {
  "kernelspec": {
   "display_name": "Python 3.9.12 64-bit",
   "language": "python",
   "name": "python3"
  },
  "language_info": {
   "codemirror_mode": {
    "name": "ipython",
    "version": 3
   },
   "file_extension": ".py",
   "mimetype": "text/x-python",
   "name": "python",
   "nbconvert_exporter": "python",
   "pygments_lexer": "ipython3",
   "version": "3.9.12"
  },
  "orig_nbformat": 4,
  "vscode": {
   "interpreter": {
    "hash": "aee8b7b246df8f9039afb4144a1f6fd8d2ca17a180786b69acc140d282b71a49"
   }
  }
 },
 "nbformat": 4,
 "nbformat_minor": 2
}
