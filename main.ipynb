{
 "cells": [
  {
   "cell_type": "markdown",
   "metadata": {},
   "source": [
    "# ChatBot Project\n",
    "This Chatbot project is intended for Human AI Class of University of Nottingham. Expect a fully running code with some markdowns to make it clear.\n",
    "\n",
    "*Disclaimer: This project uses Virtual Environment. Please download the requirements before running the program*\n",
    "\n",
    "## Program Name: Costa Coffee ChatBot\n",
    "\n",
    "The program is intended to take orders from customer, with a Natural Language (in English) as the input of the order."
   ]
  },
  {
   "cell_type": "markdown",
   "metadata": {},
   "source": [
    "# JSON File\n",
    "\n",
    "`intents.json` is a JSON file containing the list of intents both for general talk and to take orders. This will serve as a decision tree for further processesing. "
   ]
  },
  {
   "cell_type": "code",
   "execution_count": 1,
   "metadata": {},
   "outputs": [],
   "source": [
    "# Get the data from JSON\n",
    "import json\n",
    "\n",
    "# Read the json file\n",
    "intentFile = open('./data/intent.json').read()\n",
    "intents = json.loads(intentFile)"
   ]
  },
  {
   "cell_type": "markdown",
   "metadata": {},
   "source": [
    "# Functions\n",
    "\n",
    "`text_to_vector` function to split a sentence to the base words. After the splitting process, it will return a list of words, alongside with the cont next to it\n",
    "\n",
    "`get_cosine` function is to calculate the cosine similarity between two vectors. *This function will be used after using `text_to_vector` function."
   ]
  },
  {
   "cell_type": "code",
   "execution_count": 2,
   "metadata": {},
   "outputs": [],
   "source": [
    "import math\n",
    "import re\n",
    "from collections import Counter\n",
    "\n",
    "WORD = re.compile(r\"\\w+\")\n",
    "\n",
    "# Calculate the cosine similarity between two vectors\n",
    "def get_cosine(vec1, vec2):\n",
    "    intersection = set(vec1.keys()) & set(vec2.keys())\n",
    "    numerator = sum([vec1[x] * vec2[x] for x in intersection])\n",
    "\n",
    "    sum1 = sum([vec1[x] ** 2 for x in list(vec1.keys())])\n",
    "    sum2 = sum([vec2[x] ** 2 for x in list(vec2.keys())])\n",
    "    denominator = math.sqrt(sum1) * math.sqrt(sum2)\n",
    "\n",
    "    if not denominator:\n",
    "        return 0.0\n",
    "    else:\n",
    "        return float(numerator) / denominator\n",
    "\n",
    "# Return the text to vector\n",
    "def text_to_vector(text):\n",
    "    words = WORD.findall(text)\n",
    "    return Counter(words)"
   ]
  },
  {
   "cell_type": "code",
   "execution_count": 3,
   "metadata": {},
   "outputs": [
    {
     "name": "stdout",
     "output_type": "stream",
     "text": [
      "{'hello': Counter({'hi': 2, 'up': 2, 'hello': 1, 'there': 1, 'good': 1, 'morning': 1, 'what': 1, 's': 1, 'whats': 1}), 'weather': Counter({'hows': 1, 'the': 1, 'weather': 1, 'today': 1}), 'coffee': Counter({'coffee': 1})}\n"
     ]
    }
   ],
   "source": [
    "# Getting all the \n",
    "\n",
    "intentDict = {}\n",
    "for i in range(len(intents['intents'])):\n",
    "    for j in intents['intents'][i]['patterns']:\n",
    "        intentDict[intents['intents'][i]['function']] = text_to_vector(' '.join(intents['intents'][i]['patterns']))\n",
    "\n",
    "print(intentDict)"
   ]
  },
  {
   "cell_type": "code",
   "execution_count": 4,
   "metadata": {},
   "outputs": [
    {
     "name": "stdout",
     "output_type": "stream",
     "text": [
      "0.31622776601683794\n",
      "0.6123724356957946\n",
      "0.0\n"
     ]
    }
   ],
   "source": [
    "# Check which intent \n",
    "text = 'hello there whats the weather today?'\n",
    "vectorTest = text_to_vector(text)\n",
    "for l in intentDict.keys():\n",
    "    print(get_cosine(vectorTest, intentDict[l]))"
   ]
  },
  {
   "cell_type": "code",
   "execution_count": null,
   "metadata": {},
   "outputs": [],
   "source": [
    "# Defining replies\n",
    "\n",
    "def hello():\n",
    "    return \"hello\"\n",
    "\n",
    "def weather():\n",
    "    return \"weather function\"\n",
    "\n",
    "def coffee():\n",
    "    return \"coffee heheh\""
   ]
  },
  {
   "cell_type": "code",
   "execution_count": null,
   "metadata": {},
   "outputs": [],
   "source": [
    "# Get the highest similarity, then return tag\n",
    "from operator import itemgetter\n",
    "\n",
    "text = 'i want some coffee please'\n",
    "\n",
    "# Get the highest intent, return the key from dictionary\n",
    "vectorTest = text_to_vector(text)\n",
    "closestVector = sorted([[get_cosine(vectorTest, intentDict[l]),l] for l in intentDict.keys()], key=itemgetter(1))\n",
    "\n",
    "# # With the key, get the tag from json\n",
    "\n",
    "eval(closestVector[0][1]+\"()\")"
   ]
  }
 ],
 "metadata": {
  "kernelspec": {
   "display_name": "Python 3.9.12 ('venv': venv)",
   "language": "python",
   "name": "python3"
  },
  "language_info": {
   "codemirror_mode": {
    "name": "ipython",
    "version": 3
   },
   "file_extension": ".py",
   "mimetype": "text/x-python",
   "name": "python",
   "nbconvert_exporter": "python",
   "pygments_lexer": "ipython3",
   "version": "3.9.12"
  },
  "orig_nbformat": 4,
  "vscode": {
   "interpreter": {
    "hash": "b4dc0063afee51790d21509908861b8c67a34e8f41aa380f61f8bce3c0d0317f"
   }
  }
 },
 "nbformat": 4,
 "nbformat_minor": 2
}
