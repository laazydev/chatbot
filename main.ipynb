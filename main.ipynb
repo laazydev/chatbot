{
 "cells": [
  {
   "cell_type": "markdown",
   "metadata": {},
   "source": [
    "### This is the Chatbot MainFrame, where all interaction happens"
   ]
  },
  {
   "cell_type": "code",
   "execution_count": 1,
   "metadata": {},
   "outputs": [
    {
     "name": "stderr",
     "output_type": "stream",
     "text": [
      "[nltk_data] Downloading package stopwords to /Users/jr/nltk_data...\n",
      "[nltk_data]   Package stopwords is already up-to-date!\n"
     ]
    }
   ],
   "source": [
    "# Import functions from funtions.py\n",
    "from func.functions import NewCustomer, GetCustomer, checkPhone, negationCheck, isOrder, isPizza, getPizzaList, boolConfirm, getReceipt\n",
    "\n",
    "# Import preprocess functions from preprocess.py\n",
    "from func.preprocess import preprocess, text_to_vector, get_cosine, checkTypo\n",
    "\n",
    "# Import Order related functions from orderFunction.py\n",
    "from func.orderFunction import checkNumber, confirmation, Checkpoint\n"
   ]
  },
  {
   "cell_type": "code",
   "execution_count": 2,
   "metadata": {},
   "outputs": [],
   "source": [
    "# Import online libraries\n",
    "import pandas as pd"
   ]
  },
  {
   "cell_type": "code",
   "execution_count": 3,
   "metadata": {},
   "outputs": [],
   "source": [
    "# Loading all pizza name into one list\n",
    "pizza_df= pd.read_csv('pizza.csv', sep=';')\n",
    "listOfPizza = []\n",
    "for pizzaKind in pizza_df['pizzaName'].unique():\n",
    "    listOfPizza.append(pizzaKind)\n",
    "\n",
    "# Loading customer database\n",
    "customer = pd.read_csv('database/customer.csv')"
   ]
  },
  {
   "cell_type": "code",
   "execution_count": 4,
   "metadata": {},
   "outputs": [],
   "source": [
    "# Pizza Class declaration\n",
    "class Pizza:\n",
    "    def __init__(self, name, size='small', crust='pan', pizza_df=pizza_df):\n",
    "        self.name = name\n",
    "        id = [pizza_df.iloc[i, 0] for i in range(len(pizza_df)) if pizza_df.iloc[i, 1] == name][0]\n",
    "        self.description = pizza_df.iloc[id-1, 2]\n",
    "        self.calories = pizza_df.iloc[id-1, 3]\n",
    "        self.serves = pizza_df.iloc[id-1, 4]\n",
    "        self.size = size\n",
    "        self.crust = crust\n",
    "        self.isVegetarian = pizza_df.iloc[id-1, 7]\n",
    "        self.isVegan = pizza_df.iloc[id-1, 8]\n",
    "        self.isSpicy = pizza_df.iloc[id-1, 9]\n",
    "        self.price = pizza_df.iloc[id-1, 10]\n",
    "        self.sizeAvailable = pizza_df.iloc[id-1, 5]\n",
    "        self.crustAvailable = pizza_df.iloc[id-1, 6]\n",
    "\n",
    "    def __str__(self):\n",
    "        return self.description\n",
    "    \n",
    "    def getPrice(self):\n",
    "        return self.price\n",
    "    \n",
    "    def getSize(self):\n",
    "        return self.sizeAvailable\n",
    "\n",
    "    def getCrust(self):\n",
    "        return self.crustAvailable\n",
    "\n",
    "    def getName(self):\n",
    "        return self.name\n",
    "        "
   ]
  },
  {
   "cell_type": "code",
   "execution_count": 5,
   "metadata": {},
   "outputs": [
    {
     "ename": "IndexError",
     "evalue": "string index out of range",
     "output_type": "error",
     "traceback": [
      "\u001b[0;31m---------------------------------------------------------------------------\u001b[0m",
      "\u001b[0;31mIndexError\u001b[0m                                Traceback (most recent call last)",
      "Cell \u001b[0;32mIn [5], line 6\u001b[0m\n\u001b[1;32m      3\u001b[0m initialInput \u001b[39m=\u001b[39m \u001b[39minput\u001b[39m(\u001b[39m'\u001b[39m\u001b[39mGreetings! Before we proceed, may I know your phone number?\u001b[39m\u001b[39m'\u001b[39m)\n\u001b[1;32m      5\u001b[0m \u001b[39m# Check for phone number [CHECK POINT 1]\u001b[39;00m\n\u001b[0;32m----> 6\u001b[0m isCust \u001b[39m=\u001b[39m GetCustomer(checkPhone(initialInput)[\u001b[39m1\u001b[39m])\n\u001b[1;32m      8\u001b[0m \u001b[39m# If isCust returns None, means the person is not in database\u001b[39;00m\n\u001b[1;32m      9\u001b[0m \u001b[39mif\u001b[39;00m isCust \u001b[39m==\u001b[39m \u001b[39mNone\u001b[39;00m:\n\u001b[1;32m     10\u001b[0m     \u001b[39m# New Customer [DONE]\u001b[39;00m\n",
      "File \u001b[0;32m~/Library/Mobile Documents/com~apple~CloudDocs/Notts/Human AI Interaction/Coursework 1/chatbot/func/functions.py:47\u001b[0m, in \u001b[0;36mcheckPhone\u001b[0;34m(number)\u001b[0m\n\u001b[1;32m     42\u001b[0m \u001b[39mdef\u001b[39;00m \u001b[39mcheckPhone\u001b[39m(number):\n\u001b[1;32m     43\u001b[0m     \u001b[39m# Error = 0\u001b[39;00m\n\u001b[1;32m     44\u001b[0m     \u001b[39m# True = 1\u001b[39;00m\n\u001b[1;32m     45\u001b[0m \n\u001b[1;32m     46\u001b[0m     \u001b[39m# Starts with 0\u001b[39;00m\n\u001b[0;32m---> 47\u001b[0m     \u001b[39mif\u001b[39;00m number[\u001b[39m0\u001b[39;49m] \u001b[39m==\u001b[39m \u001b[39m'\u001b[39m\u001b[39m0\u001b[39m\u001b[39m'\u001b[39m:\n\u001b[1;32m     48\u001b[0m         number \u001b[39m=\u001b[39m number[\u001b[39m1\u001b[39m:]\n\u001b[1;32m     49\u001b[0m     \u001b[39melif\u001b[39;00m number[\u001b[39m0\u001b[39m] \u001b[39m==\u001b[39m \u001b[39m'\u001b[39m\u001b[39m+\u001b[39m\u001b[39m'\u001b[39m:\n",
      "\u001b[0;31mIndexError\u001b[0m: string index out of range"
     ]
    }
   ],
   "source": [
    "# Reworking on the flow of the chatbot\n",
    "\n",
    "initialInput = input('Greetings! Before we proceed, may I know your phone number?')\n",
    "\n",
    "# Check for phone number [CHECK POINT 1]\n",
    "isCust = GetCustomer(checkPhone(initialInput)[1])\n",
    "\n",
    "# If isCust returns None, means the person is not in database\n",
    "if isCust == None:\n",
    "    # New Customer [DONE]\n",
    "    rawInput = input(f'Pizzy: Hi! We havent been friends before. How can I help you today?')\n",
    "else:\n",
    "    # Returning Customer [DONE]\n",
    "    rawInput = input(f'Pizzy: Welcome back {isCust[0].capitalize()}! How can I help you today?')\n",
    "    \n",
    "pizzaOrder = []\n",
    "\n",
    "# Check if any pizza name is in the [DONE]\n",
    "for pizzas in listOfPizza:\n",
    "    if pizzas in rawInput:\n",
    "        pizzaOrder.append(pizzas)\n",
    "    else:\n",
    "        pass\n",
    "\n",
    "## Checking whether pizza name exist in the rawInput\n",
    "# 1 Pizza Exist [DONE]\n",
    "if len(pizzaOrder) == 1:\n",
    "    if negationCheck(rawInput) == False:\n",
    "        tempNegation = [pOrder for pOrder in pizzaOrder][0]\n",
    "        finalCheck = input(f'are u sure u want to order {tempNegation}?')\n",
    "        # Final confirmation before proceeding to pizza detail\n",
    "        CheckpointOutput = []\n",
    "        CheckpointOutput.append(tempNegation)\n",
    "    else:\n",
    "        # There is negation --> Checkpoint 3\n",
    "        print('what do u want?')\n",
    "# More than 1 pizza exists\n",
    "elif len(pizzaOrder) > 1:\n",
    "    print('Sorry! we only serve one pizza at a time! you can place the next one after finishing one pizza.')\n",
    "# No Pizza exists\n",
    "elif len(pizzaOrder) == 0:\n",
    "    # No name pizza exist --> Checkpoint 3\n",
    "\n",
    "    # Order trigger word exist\n",
    "    if isOrder(rawInput) == True:\n",
    "\n",
    "        # Word pizza exist\n",
    "        if isPizza(rawInput) == True:\n",
    "            \n",
    "            CheckpointOutput = Checkpoint(listOfPizza, pizza_df)\n",
    "\n",
    "        # Word pizza not exist\n",
    "        else:\n",
    "            print('This chatbot is only taking order for pizza. Would like to have some?')\n",
    "            \n",
    "    # Order trigger word is not exist\n",
    "    else:\n",
    "        print('General talk huh')\n",
    "\n",
    "if len(CheckpointOutput) == 1:\n",
    "    sizeChoice = []\n",
    "    crustChoice = []\n",
    "    currentOrder = Pizza(CheckpointOutput[0])\n",
    "    sizeAvail = currentOrder.getSize().split(',')\n",
    "    crustAvail = currentOrder.getCrust().split(',')\n",
    "    # Taking size\n",
    "    while True:\n",
    "        sizePrompt = input(f'The available size are {[sizes for sizes in sizeAvail]}. Which size do you want?')\n",
    "        if sizePrompt in sizeAvail:\n",
    "            sizeChoice.append(sizePrompt)\n",
    "            break\n",
    "        elif sizePrompt == 'quit':\n",
    "            break\n",
    "        else:\n",
    "            print('Please enter a valid size')\n",
    "\n",
    "    # Taking crust\n",
    "    while True:\n",
    "        crustPrompt = input(f'The available crusts are {[crusts for crusts in crustAvail]}. Which size do you want?')\n",
    "        if crustPrompt in crustAvail:\n",
    "            crustChoice.append(crustPrompt)\n",
    "            break\n",
    "        elif crustPrompt == 'quit':\n",
    "            break\n",
    "        else:\n",
    "            print('Please enter a valid crust')\n",
    "\n",
    "receipt = []\n",
    "receipt.append(list([f'{sizeChoice[0]} {CheckpointOutput[0].capitalize()} with {crustChoice[0]}.', currentOrder.getPrice()]))\n",
    "\n",
    "print(getReceipt(receipt))"
   ]
  },
  {
   "cell_type": "code",
   "execution_count": 72,
   "metadata": {},
   "outputs": [
    {
     "data": {
      "text/plain": [
       "[['large Pepperoni feast with pan.', '20,99']]"
      ]
     },
     "execution_count": 72,
     "metadata": {},
     "output_type": "execute_result"
    }
   ],
   "source": [
    "receipt = []\n",
    "receipt.append(list([f'{sizeChoice[0]} {CheckpointOutput[0].capitalize()} with {crustChoice[0]}.', currentOrder.getPrice()]))"
   ]
  },
  {
   "cell_type": "code",
   "execution_count": 74,
   "metadata": {},
   "outputs": [
    {
     "ename": "NameError",
     "evalue": "name 'getReceipt' is not defined",
     "output_type": "error",
     "traceback": [
      "\u001b[0;31m---------------------------------------------------------------------------\u001b[0m",
      "\u001b[0;31mNameError\u001b[0m                                 Traceback (most recent call last)",
      "Cell \u001b[0;32mIn [74], line 1\u001b[0m\n\u001b[0;32m----> 1\u001b[0m getReceipt(receipt)\n",
      "\u001b[0;31mNameError\u001b[0m: name 'getReceipt' is not defined"
     ]
    }
   ],
   "source": [
    "getReceipt(receipt)"
   ]
  },
  {
   "cell_type": "code",
   "execution_count": 6,
   "metadata": {},
   "outputs": [],
   "source": [
    "def Checkpoint():\n",
    "    trialsFlag = 0\n",
    "    order = []\n",
    "    for trials in range(0, 3):\n",
    "        pizzaOrderInput = input('Pizzy: What pizza do you want?')\n",
    "\n",
    "        # Typo checking is here\n",
    "        for typoCheck in listOfPizza:\n",
    "            # Accurate 100%\n",
    "            if checkTypo(typoCheck.lower(), pizzaOrderInput) == 100:\n",
    "                print(f'You are ordering {typoCheck.capitalize()}')\n",
    "                trialsFlag = 1\n",
    "                order.append(typoCheck)\n",
    "                break\n",
    "            \n",
    "            # Above 80% Confidence\n",
    "            elif checkTypo(typoCheck.lower(), pizzaOrderInput) > 80:\n",
    "                typoPrompt = input(f'Do you mean by {typoCheck.capitalize()}?')\n",
    "                # Positive confirmation\n",
    "                if boolConfirm(typoPrompt) == 1:\n",
    "                    print(f'You are orderring {typoCheck.capitalize()}')\n",
    "                    trialsFlag = 1\n",
    "                    order.append(typoCheck)\n",
    "                    break\n",
    "\n",
    "                # Negative Confirmation\n",
    "                elif boolConfirm(typoPrompt) == -1:\n",
    "                    break\n",
    "                \n",
    "                # Not understandable response\n",
    "                else:\n",
    "                    print('Pizzy: I am not sure I understand :.')\n",
    "            \n",
    "            # Under 80% Confidence\n",
    "            else:\n",
    "                rePrintPizza = input('I am not sure I understand. Do you want to see the list of pizza first?')\n",
    "                # Positive: Want to see pizza list [DONE]\n",
    "                if boolConfirm(rePrintPizza) == 1:\n",
    "                    print(getPizzaList(pizza_df))\n",
    "                    break\n",
    "\n",
    "                # Negative: Dont want [DONE]\n",
    "                elif boolConfirm(rePrintPizza) == -1:\n",
    "                    print('Pizzy: Alright, sure sure')\n",
    "                    break\n",
    "\n",
    "        # Checkpoint [DONE]\n",
    "        if trialsFlag == 0:\n",
    "            pass\n",
    "        else:\n",
    "            break\n",
    "    return order"
   ]
  },
  {
   "cell_type": "code",
   "execution_count": 65,
   "metadata": {},
   "outputs": [
    {
     "name": "stdout",
     "output_type": "stream",
     "text": [
      "small,medium,large\n"
     ]
    }
   ],
   "source": [
    "abcd = Pizza('margherita')\n"
   ]
  }
 ],
 "metadata": {
  "kernelspec": {
   "display_name": "Python 3.9.12 ('venv': venv)",
   "language": "python",
   "name": "python3"
  },
  "language_info": {
   "codemirror_mode": {
    "name": "ipython",
    "version": 3
   },
   "file_extension": ".py",
   "mimetype": "text/x-python",
   "name": "python",
   "nbconvert_exporter": "python",
   "pygments_lexer": "ipython3",
   "version": "3.9.12"
  },
  "orig_nbformat": 4,
  "vscode": {
   "interpreter": {
    "hash": "b4dc0063afee51790d21509908861b8c67a34e8f41aa380f61f8bce3c0d0317f"
   }
  }
 },
 "nbformat": 4,
 "nbformat_minor": 2
}
