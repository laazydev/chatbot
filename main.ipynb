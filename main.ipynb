{
 "cells": [
  {
   "cell_type": "markdown",
   "metadata": {},
   "source": [
    "# ChatBot Project\n",
    "This Chatbot project is intended for Human AI Class of University of Nottingham. Expect a fully running code with some markdowns to make it clear.\n",
    "\n",
    "*Disclaimer: This project uses Virtual Environment. Please download the requirements before running the program*\n",
    "\n",
    "## Program Name: Costa Coffee ChatBot\n",
    "\n",
    "The program is intended to take orders from customer, with a Natural Language (in English) as the input of the order."
   ]
  },
  {
   "cell_type": "markdown",
   "metadata": {},
   "source": [
    "# JSON File\n",
    "\n",
    "`intents.json` is a JSON file containing the list of intents both for general talk and to take orders. This will serve as a decision tree for further processesing. "
   ]
  },
  {
   "cell_type": "code",
   "execution_count": 1,
   "metadata": {},
   "outputs": [],
   "source": [
    "# Get the data from JSON\n",
    "import json\n",
    "\n",
    "intentFile = open('./data/intents.json').read()\n",
    "intents = json.loads(intentFile)"
   ]
  },
  {
   "cell_type": "code",
   "execution_count": 2,
   "metadata": {},
   "outputs": [
    {
     "name": "stderr",
     "output_type": "stream",
     "text": [
      "[nltk_data] Downloading package stopwords to /Users/jr/nltk_data...\n",
      "[nltk_data]   Package stopwords is already up-to-date!\n"
     ]
    }
   ],
   "source": [
    "# Download stopwords from NLTK\n",
    "import nltk\n",
    "from nltk.corpus import stopwords\n",
    "nltk.download('stopwords')\n",
    "stopwords = stopwords.words('english')\n",
    "\n",
    "# Remove negation\n",
    "stopwords.remove('not')"
   ]
  },
  {
   "cell_type": "code",
   "execution_count": 3,
   "metadata": {},
   "outputs": [],
   "source": [
    "# Import libraries\n",
    "import nltk\n",
    "from nltk.tokenize import word_tokenize\n",
    "import string\n",
    "\n",
    "# Preprocess the intent\n",
    "def preprocess(textinput):\n",
    "    textinput = textinput.lower()\n",
    "\n",
    "    # Remove punctuations\n",
    "    string.punctuation = string.punctuation + '-'\n",
    "    text_filtered = ''.join([char for char in textinput if char not in string.punctuation])\n",
    "\n",
    "    # Tokenize the word\n",
    "    text_tokens = word_tokenize(text_filtered)\n",
    "\n",
    "    # Remove stopword from the text\n",
    "    tokens_without_sw = [word for word in text_tokens if word.lower() not in stopwords]\n",
    "\n",
    "    # Removing any stopwords from the sentence\n",
    "    filtered_sentence = (\" \").join(tokens_without_sw)\n",
    "\n",
    "    post = nltk.pos_tag(word_tokenize(filtered_sentence), tagset='universal') \n",
    "    return post"
   ]
  },
  {
   "cell_type": "code",
   "execution_count": 4,
   "metadata": {},
   "outputs": [],
   "source": [
    "# Intent reading with spell checker\n",
    "import json\n",
    "import difflib\n",
    "\n",
    "def getIntent(preprocessedText):\n",
    "    intentsList = []\n",
    "    for i in preprocessedText:\n",
    "        for j in range(len(intents['classes'])):\n",
    "            a = difflib.get_close_matches(i[0], intents['classes'][j]['keyword'])\n",
    "            if len(a) == 1:\n",
    "                print(i[0], intents['classes'][j]['keyword'])\n",
    "                intentsList.append(intents['classes'][j]['class'])\n",
    "            else:\n",
    "                pass\n",
    "    return intentsList"
   ]
  },
  {
   "cell_type": "code",
   "execution_count": null,
   "metadata": {},
   "outputs": [],
   "source": []
  }
 ],
 "metadata": {
  "kernelspec": {
   "display_name": "Python 3.9.12 ('venv': venv)",
   "language": "python",
   "name": "python3"
  },
  "language_info": {
   "codemirror_mode": {
    "name": "ipython",
    "version": 3
   },
   "file_extension": ".py",
   "mimetype": "text/x-python",
   "name": "python",
   "nbconvert_exporter": "python",
   "pygments_lexer": "ipython3",
   "version": "3.9.12"
  },
  "orig_nbformat": 4,
  "vscode": {
   "interpreter": {
    "hash": "b4dc0063afee51790d21509908861b8c67a34e8f41aa380f61f8bce3c0d0317f"
   }
  }
 },
 "nbformat": 4,
 "nbformat_minor": 2
}
