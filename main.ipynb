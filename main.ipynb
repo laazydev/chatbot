{
 "cells": [
  {
   "cell_type": "markdown",
   "metadata": {},
   "source": [
    "### This is the Chatbot MainFrame, where all interaction happens"
   ]
  },
  {
   "cell_type": "code",
   "execution_count": 1,
   "metadata": {},
   "outputs": [
    {
     "name": "stderr",
     "output_type": "stream",
     "text": [
      "[nltk_data] Downloading package stopwords to /Users/jr/nltk_data...\n",
      "[nltk_data]   Package stopwords is already up-to-date!\n"
     ]
    }
   ],
   "source": [
    "# Import functions from funtions.py\n",
    "from func.functions import NewCustomer, GetCustomer, checkPhone, negationCheck, isOrder, isPizza, getPizzaList\n",
    "\n",
    "# Import preprocess functions from preprocess.py\n",
    "from func.preprocess import preprocess, text_to_vector, get_cosine, checkTypo\n",
    "\n",
    "# Import Order related functions from orderFunction.py\n",
    "from func.orderFunction import checkNumber, confirmation\n"
   ]
  },
  {
   "cell_type": "code",
   "execution_count": 2,
   "metadata": {},
   "outputs": [],
   "source": [
    "# Import online libraries\n",
    "import pandas as pd"
   ]
  },
  {
   "cell_type": "code",
   "execution_count": 3,
   "metadata": {},
   "outputs": [],
   "source": [
    "# Loading all pizza name into one list\n",
    "pizza_df= pd.read_csv('pizza.csv', sep=';')\n",
    "listOfPizza = []\n",
    "for pizzaKind in pizza_df['pizzaName'].unique():\n",
    "    listOfPizza.append(pizzaKind)\n",
    "\n",
    "# Loading customer database\n",
    "customer = pd.read_csv('database/customer.csv')"
   ]
  },
  {
   "cell_type": "code",
   "execution_count": 4,
   "metadata": {},
   "outputs": [],
   "source": [
    "# Pizza Class declaration\n",
    "class Pizza:\n",
    "    def __init__(self, name, size, crust, pizza_df=pizza_df):\n",
    "        self.name = name\n",
    "        id = [pizza_df.iloc[i, 0] for i in range(len(pizza_df)) if pizza_df.iloc[i, 1] == name][0]\n",
    "        self.description = pizza_df.iloc[id-1, 2]\n",
    "        self.calories = pizza_df.iloc[id-1, 3]\n",
    "        self.serves = pizza_df.iloc[id-1, 4]\n",
    "        self.size = size\n",
    "        self.crust = crust\n",
    "        self.isVegetarian = pizza_df.iloc[id-1, 7]\n",
    "        self.isVegan = pizza_df.iloc[id-1, 8]\n",
    "        self.isSpicy = pizza_df.iloc[id-1, 9]\n",
    "        self.price = pizza_df.iloc[id-1, 10]\n",
    "\n",
    "    def __str__(self):\n",
    "        return self.description\n",
    "    \n",
    "    def getPrice(self):\n",
    "        return self.price"
   ]
  },
  {
   "cell_type": "code",
   "execution_count": 14,
   "metadata": {},
   "outputs": [
    {
     "name": "stdout",
     "output_type": "stream",
     "text": [
      "Understood\n"
     ]
    }
   ],
   "source": [
    "# Reworking on the flow of the chatbot\n",
    "\n",
    "initialInput = input('Greetings! Before we proceed, may I know your phone number?')\n",
    "\n",
    "# Check for phone number [CHECK POINT 1]\n",
    "isCust = GetCustomer(checkPhone(initialInput)[1])\n",
    "\n",
    "# If isCust returns None, means the person is not in database\n",
    "if isCust == None:\n",
    "    # New Customer\n",
    "    rawInput = input(f'Pizzy: Hi! We havent been friends before. How can I help you today?')\n",
    "else:\n",
    "    # Returning Customer\n",
    "    rawInput = input(f'Pizzy: Welcome back {isCust[0].capitalize()}! How can I help you today?')\n",
    "    \n",
    "    pizzaOrder = []\n",
    "\n",
    "    # Check if any pizza name is in the\n",
    "    for pizzas in listOfPizza:\n",
    "        if pizzas in rawInput:\n",
    "            pizzaOrder.append(pizzas)\n",
    "        else:\n",
    "            pass\n",
    "    \n",
    "    ## Checking whether pizza name exist in the rawInput\n",
    "    # 1 Pizza Exist\n",
    "    if len(pizzaOrder) == 1:\n",
    "        if negationCheck(rawInput) == False:\n",
    "            finalCheck = input(f'are u sure u want to order {[pOrder for pOrder in pizzaOrder][0]}?')\n",
    "            # Final confirmation before proceeding to pizza detail\n",
    "            print(finalCheck) ### EDIT THIS\n",
    "        else:\n",
    "            # There is negation --> Checkpoint 3\n",
    "            print('what do u want?')\n",
    "    # More than 1 pizza exists\n",
    "    elif len(pizzaOrder) > 1:\n",
    "        print('Sorry! we only serve one pizza at a time! you can place the next one after finishing one pizza.')\n",
    "    # No Pizza exists\n",
    "    elif len(pizzaOrder) == 0:\n",
    "        # No name pizza exist --> Checkpoint 3\n",
    "\n",
    "        # Order trigger word exist\n",
    "        if isOrder(rawInput) == True:\n",
    "\n",
    "            # Word pizza exist\n",
    "            if isPizza(rawInput) == True:\n",
    "                for trials in range(0, 2):\n",
    "                    trialsFlag = 0\n",
    "                    pizzaOrderInput = input('Pizzy: What pizza do you want?')\n",
    "\n",
    "                    #Typo checking is here\n",
    "                    for typoCheck in listOfPizza:\n",
    "                        # Accurate 100%\n",
    "                        if checkTypo(typoCheck.lower(), pizzaOrderInput) == 100:\n",
    "                            print('Understood')\n",
    "                            trialsFlag = 1\n",
    "                            break\n",
    "                        \n",
    "                        # Above 80% Confidence\n",
    "                        elif checkTypo(typoCheck.lower(), pizzaOrderInput) > 80:\n",
    "                            typoPrompt = input(f'Do you mean by {typoCheck.capitalize()}?')\n",
    "                            if boolConfirm(typoPrompt) == 1:\n",
    "                                print('Order is taken')\n",
    "                            elif boolConfirm(typoPrompt) == -1:\n",
    "                                print('what pizza do you want?')\n",
    "                            else:\n",
    "                                print('I am not sure I understand.')\n",
    "                            break\n",
    "                        \n",
    "                        # Under 80% Confidence\n",
    "                        else:\n",
    "                            rePrintPizza = input('I am not sure I understand. Do you want to see the list of pizza first?')\n",
    "                            break\n",
    "                            ### ADD MORE HERE\n",
    "                    if trialsFlag == 0:\n",
    "                        pass\n",
    "                    else:\n",
    "                        break\n",
    "                print('I am not sure I understand')\n",
    "                    \n",
    "\n",
    "            # Word pizza not exist\n",
    "            else:\n",
    "                print('This chatbot is only taking order for pizza. Would like to have some?')\n",
    "        # Order trigger word is not exist\n",
    "        else:\n",
    "            print('General talk huh')"
   ]
  },
  {
   "cell_type": "code",
   "execution_count": 9,
   "metadata": {},
   "outputs": [],
   "source": [
    "def boolConfirm(text):\n",
    "    positive_bool = ['yes', 'yesh', 'yeah', 'yup', 'yea', 'yuh']\n",
    "    negative_bool= ['no', 'noh', 'nope', 'nah', 'naur', 'naw']\n",
    "\n",
    "    posFlag = False\n",
    "    negFlag = False\n",
    "\n",
    "    for pos in positive_bool:\n",
    "        if pos in text:\n",
    "            posFlag = True\n",
    "        \n",
    "    for neg in negative_bool:\n",
    "        if neg in text:\n",
    "            negFlag = True\n",
    "\n",
    "    if posFlag == True and negFlag == False:\n",
    "        # Positive\n",
    "        return 1\n",
    "    elif posFlag == False and negFlag == True:\n",
    "        # Negative\n",
    "        return -1\n",
    "    else:\n",
    "        # Not understandable\n",
    "        return 0\n",
    "        \n",
    "\n"
   ]
  },
  {
   "cell_type": "code",
   "execution_count": 10,
   "metadata": {},
   "outputs": [
    {
     "name": "stdout",
     "output_type": "stream",
     "text": [
      "True\n"
     ]
    }
   ],
   "source": [
    "print(cdj('yess'))"
   ]
  }
 ],
 "metadata": {
  "kernelspec": {
   "display_name": "Python 3.9.12 ('venv': venv)",
   "language": "python",
   "name": "python3"
  },
  "language_info": {
   "codemirror_mode": {
    "name": "ipython",
    "version": 3
   },
   "file_extension": ".py",
   "mimetype": "text/x-python",
   "name": "python",
   "nbconvert_exporter": "python",
   "pygments_lexer": "ipython3",
   "version": "3.9.12"
  },
  "orig_nbformat": 4,
  "vscode": {
   "interpreter": {
    "hash": "b4dc0063afee51790d21509908861b8c67a34e8f41aa380f61f8bce3c0d0317f"
   }
  }
 },
 "nbformat": 4,
 "nbformat_minor": 2
}
