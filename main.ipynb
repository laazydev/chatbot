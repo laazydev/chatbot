{
 "cells": [
  {
   "cell_type": "markdown",
   "metadata": {},
   "source": [
    "### This is the Chatbot MainFrame, where all interaction happens"
   ]
  },
  {
   "cell_type": "code",
   "execution_count": 1,
   "metadata": {},
   "outputs": [
    {
     "name": "stderr",
     "output_type": "stream",
     "text": [
      "[nltk_data] Downloading package stopwords to /Users/jr/nltk_data...\n",
      "[nltk_data]   Package stopwords is already up-to-date!\n"
     ]
    }
   ],
   "source": [
    "# Import functions from funtions.py\n",
    "from func.functions import NewCustomer, GetCustomer, checkPhone\n",
    "\n",
    "# Import preprocess functions from preprocess.py\n",
    "from func.preprocess import preprocess, text_to_vector, get_cosine\n",
    "\n",
    "# Import Order related functions from orderFunction.py\n",
    "from func.orderFunction import checkNumber\n"
   ]
  },
  {
   "cell_type": "code",
   "execution_count": 3,
   "metadata": {},
   "outputs": [],
   "source": [
    "# Import online libraries\n",
    "import pandas as pd"
   ]
  },
  {
   "cell_type": "code",
   "execution_count": 18,
   "metadata": {},
   "outputs": [],
   "source": [
    "# Loading all pizza name into one list\n",
    "pizza_df= pd.read_csv('pizza.csv', sep=';')\n",
    "listOfPizza = []\n",
    "for pizzaKind in pizza_df['pizzaName'].unique():\n",
    "    listOfPizza.append(pizzaKind)"
   ]
  },
  {
   "cell_type": "code",
   "execution_count": 22,
   "metadata": {},
   "outputs": [
    {
     "name": "stdout",
     "output_type": "stream",
     "text": [
      "I gotchu\n"
     ]
    }
   ],
   "source": [
    "# General Greeting as an opening\n",
    "import nltk\n",
    "\n",
    "allPizzaName = pd.read_csv('pizza.csv', sep=';')\n",
    "\n",
    "initialInput = input('Before we proceed, may I know your phone number?')\n",
    "\n",
    "# Check whether the phone number is valid or no\n",
    "if checkPhone(initialInput)[0] == 0:\n",
    "    print('Please enter the right number')\n",
    "else:\n",
    "    isCust = GetCustomer(checkPhone(initialInput)[1])\n",
    "    if isCust == None:\n",
    "        print('You are currently not registered in our system. How can I help you today?')\n",
    "    else:\n",
    "        orderInput = input(f'Welcome back {isCust[0].capitalize()}! How can I help you today?')\n",
    "        # User Input\n",
    "        if checkNumber(preprocess(orderInput)) == False:\n",
    "            print(\"Sorry! We only serve one order at a time\")\n",
    "        else:\n",
    "            # Get Pizza Order\n",
    "            ## Pizza name is exactly the same with the raw input\n",
    "            for pizzaName in listOfPizza:\n",
    "                if pizzaName.lower() in orderInput.lower():\n",
    "                    print('I gotchu') ## THIS NEED TO BE EDITED FURTHER\n",
    "                    "
   ]
  },
  {
   "cell_type": "code",
   "execution_count": 22,
   "metadata": {},
   "outputs": [
    {
     "data": {
      "text/plain": [
       "'mozzarella Cheese with Tomato Sauce'"
      ]
     },
     "execution_count": 22,
     "metadata": {},
     "output_type": "execute_result"
    }
   ],
   "source": [
    "test  = 'pepperoni feast'\n",
    "\n",
    "for i in range(len(pizza_df)):\n",
    "    if pizza_df.iloc[i, 1] == 'margherita':\n",
    "        print(pizza_df.iloc[i, 2])\n",
    "\n",
    "[pizza_df.iloc[i, 2] for i in range(len(pizza_df)) if pizza_df.iloc[i, 1] =='margherita'][0]"
   ]
  },
  {
   "cell_type": "code",
   "execution_count": 34,
   "metadata": {},
   "outputs": [],
   "source": [
    "class Pizza:\n",
    "    def __init__(self, name, size, crust, pizza_df=pizza_df):\n",
    "        self.name = name\n",
    "        id = [pizza_df.iloc[i, 0] for i in range(len(pizza_df)) if pizza_df.iloc[i, 1] == name][0]\n",
    "        self.description = pizza_df.iloc[id-1, 2]\n",
    "        self.calories = pizza_df.iloc[id-1, 3]\n",
    "        self.serves = pizza_df.iloc[id-1, 4]\n",
    "        self.size = size\n",
    "        self.crust = crust\n",
    "        self.isVegetarian = pizza_df.iloc[id-1, 7]\n",
    "        self.isVegan = pizza_df.iloc[id-1, 8]\n",
    "        self.isSpicy = pizza_df.iloc[id-1, 9]\n",
    "        self.price = pizza_df.iloc[id-1, 10]\n",
    "\n",
    "    def __str__(self):\n",
    "        return self.description\n",
    "    \n",
    "    def getPrice(self):\n",
    "        return self.price\n",
    "        \n",
    "a = Pizza('supreme', 'small', 'pan')"
   ]
  },
  {
   "cell_type": "code",
   "execution_count": 37,
   "metadata": {},
   "outputs": [
    {
     "name": "stdout",
     "output_type": "stream",
     "text": [
      "18,99\n"
     ]
    }
   ],
   "source": [
    "print(a.getPrice())"
   ]
  }
 ],
 "metadata": {
  "kernelspec": {
   "display_name": "Python 3.9.12 ('venv': venv)",
   "language": "python",
   "name": "python3"
  },
  "language_info": {
   "codemirror_mode": {
    "name": "ipython",
    "version": 3
   },
   "file_extension": ".py",
   "mimetype": "text/x-python",
   "name": "python",
   "nbconvert_exporter": "python",
   "pygments_lexer": "ipython3",
   "version": "3.9.12"
  },
  "orig_nbformat": 4,
  "vscode": {
   "interpreter": {
    "hash": "b4dc0063afee51790d21509908861b8c67a34e8f41aa380f61f8bce3c0d0317f"
   }
  }
 },
 "nbformat": 4,
 "nbformat_minor": 2
}
