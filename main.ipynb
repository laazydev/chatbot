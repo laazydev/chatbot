{
 "cells": [
  {
   "cell_type": "markdown",
   "metadata": {},
   "source": [
    "# ChatBot Project\n",
    "This Chatbot project is intended for Human AI Class of University of Nottingham. Expect a fully running code with some markdowns to make it clear.\n",
    "\n",
    "*Disclaimer: This project uses Virtual Environment. Please download the requirements before running the program*\n",
    "\n",
    "## Program Name: Costa Coffee ChatBot\n",
    "\n",
    "The program is intended to take orders from customer, with a Natural Language (in English) as the input of the order."
   ]
  },
  {
   "cell_type": "code",
   "execution_count": 1,
   "metadata": {},
   "outputs": [],
   "source": [
    "# Get the data from JSON\n",
    "import json\n",
    "\n",
    "# Read the json file\n",
    "intentFile = open('./data/intent.json').read()\n",
    "intents = json.loads(intentFile)\n",
    "\n",
    "classReadingFile = open('./data/classesReading.json').read()\n",
    "classReading = json.loads(classReadingFile)\n",
    "\n",
    "# # Print the json file with indent (to make it easy to read)\n",
    "# print(json.dumps(intentFile, indent=4))"
   ]
  },
  {
   "cell_type": "code",
   "execution_count": 2,
   "metadata": {},
   "outputs": [
    {
     "name": "stderr",
     "output_type": "stream",
     "text": [
      "[nltk_data] Downloading package stopwords to /Users/jr/nltk_data...\n",
      "[nltk_data]   Package stopwords is already up-to-date!\n"
     ]
    }
   ],
   "source": [
    "# Download stopwords from NLTK\n",
    "import nltk\n",
    "from nltk.corpus import stopwords\n",
    "nltk.download('stopwords')\n",
    "__stopwords = stopwords.words('english')\n",
    "\n",
    "# Remove negation\n",
    "__stopwords.remove('not')"
   ]
  },
  {
   "cell_type": "code",
   "execution_count": 3,
   "metadata": {},
   "outputs": [],
   "source": [
    "# Import libraries\n",
    "import nltk\n",
    "from nltk.tokenize import word_tokenize\n",
    "import string\n",
    "\n",
    "# Preprocess the intent\n",
    "def preprocess(textinput):\n",
    "    textinput = textinput.lower()\n",
    "\n",
    "    # Remove punctuations\n",
    "    string.punctuation = string.punctuation + '-'\n",
    "    text_filtered = ''.join([char for char in textinput if char not in string.punctuation])\n",
    "\n",
    "    # Tokenize the word\n",
    "    text_tokens = word_tokenize(text_filtered)\n",
    "\n",
    "    # Remove stopword from the text\n",
    "    tokens_without_sw = [word for word in text_tokens if word.lower() not in __stopwords]\n",
    "\n",
    "    # Removing any stopwords from the sentence\n",
    "    filtered_sentence = (\" \").join(tokens_without_sw)\n",
    "\n",
    "    post = nltk.pos_tag(word_tokenize(filtered_sentence), tagset='universal') \n",
    "    return post"
   ]
  },
  {
   "cell_type": "code",
   "execution_count": 26,
   "metadata": {},
   "outputs": [],
   "source": [
    "# Intent reading\n",
    "import json\n",
    "\n",
    "def getIntent(preprocessedText):\n",
    "    intents = []\n",
    "    for i in preprocessedText:\n",
    "        for j in range(len(classReading['classes'])):\n",
    "            if i[0] in classReading['classes'][j]['keyword']:\n",
    "                print(f\"{i[0]} and {classReading['classes'][j]['class']}\")\n",
    "                intents.append(i[0])\n",
    "    return intents"
   ]
  },
  {
   "cell_type": "code",
   "execution_count": 22,
   "metadata": {},
   "outputs": [],
   "source": [
    "# Intent reading with spell checker\n",
    "import json\n",
    "import difflib\n",
    "\n",
    "def getIntent2(preprocessedText):\n",
    "    intents = []\n",
    "    for i in preprocessedText:\n",
    "        for j in range(len(classReading['classes'])):\n",
    "            a = difflib.get_close_matches(i[0], [classReading['classes'][j]['keyword']])\n",
    "            if len(a) == 1:\n",
    "                intents.append(classReading['classes'][j]['class'])\n",
    "            else:\n",
    "                pass\n",
    "    return intents"
   ]
  },
  {
   "cell_type": "code",
   "execution_count": 18,
   "metadata": {},
   "outputs": [
    {
     "name": "stdout",
     "output_type": "stream",
     "text": [
      "order\n"
     ]
    }
   ],
   "source": [
    "print(classReading['classes'][0]['class'])"
   ]
  },
  {
   "cell_type": "code",
   "execution_count": 37,
   "metadata": {},
   "outputs": [
    {
     "name": "stdout",
     "output_type": "stream",
     "text": [
      "0\n",
      "1\n",
      "0\n",
      "0\n",
      "['weather']\n"
     ]
    }
   ],
   "source": [
    "\n",
    "\n",
    "def getClassIntent(text):\n",
    "    aa = []\n",
    "    for i in text:\n",
    "        for j in range(len(classReading['classes'])):\n",
    "            temp = difflib.get_close_matches(i[0], classReading['classes'][j]['keyword'])\n",
    "            print(len(temp))\n",
    "            if len(temp) == 0:\n",
    "                pass\n",
    "            else:\n",
    "                aa.append(classReading['classes'][j]['class'])\n",
    "    return aa\n",
    "\n"
   ]
  },
  {
   "cell_type": "code",
   "execution_count": 11,
   "metadata": {},
   "outputs": [
    {
     "name": "stdout",
     "output_type": "stream",
     "text": [
      "1\n"
     ]
    }
   ],
   "source": [
    "# Check for spelling error\n",
    "a = difflib.get_close_matches('want', ['order', 'buy', 'have', 'want'])\n",
    "print(len(a))"
   ]
  },
  {
   "cell_type": "code",
   "execution_count": null,
   "metadata": {},
   "outputs": [],
   "source": [
    "text = \"i do want a capychino\"\n",
    "\n",
    "testing = preprocess(text)\n",
    "# print(testing)\n",
    "\n",
    "for i in testing:\n",
    "    print(i[0])"
   ]
  },
  {
   "cell_type": "code",
   "execution_count": null,
   "metadata": {},
   "outputs": [],
   "source": [
    "getIntent(testing)"
   ]
  },
  {
   "cell_type": "code",
   "execution_count": null,
   "metadata": {},
   "outputs": [],
   "source": [
    "# Checking on typos for every tokens\n",
    "\n",
    "book1_topics = ['mocha', 'cappucino', 'latte']\n",
    "book2_topics = ['ltte']\n",
    "\n",
    "import difflib\n",
    "\n",
    "a = difflib.get_close_matches('res', ['mocha', 'cappucino', 'latte'])\n",
    "len(a)"
   ]
  }
 ],
 "metadata": {
  "kernelspec": {
   "display_name": "Python 3.9.12 ('venv': venv)",
   "language": "python",
   "name": "python3"
  },
  "language_info": {
   "codemirror_mode": {
    "name": "ipython",
    "version": 3
   },
   "file_extension": ".py",
   "mimetype": "text/x-python",
   "name": "python",
   "nbconvert_exporter": "python",
   "pygments_lexer": "ipython3",
   "version": "3.9.12"
  },
  "orig_nbformat": 4,
  "vscode": {
   "interpreter": {
    "hash": "b4dc0063afee51790d21509908861b8c67a34e8f41aa380f61f8bce3c0d0317f"
   }
  }
 },
 "nbformat": 4,
 "nbformat_minor": 2
}
