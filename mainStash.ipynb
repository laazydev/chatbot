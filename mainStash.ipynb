{
 "cells": [
  {
   "cell_type": "code",
   "execution_count": null,
   "metadata": {},
   "outputs": [],
   "source": [
    "# General Greeting as an opening\n",
    "\n",
    "initialInput = input('Before we proceed, may I know your phone number?')\n",
    "\n",
    "# Check whether the phone number is valid or no\n",
    "if checkPhone(initialInput)[0] == 0:\n",
    "    print('Please enter the right number')\n",
    "else:\n",
    "    isCust = GetCustomer(checkPhone(initialInput)[1])\n",
    "    if isCust == None:\n",
    "        print('You are currently not registered in our system. How can I help you today?')\n",
    "    else:\n",
    "        orderInput = input(f'Welcome back {isCust[0].capitalize()}! How can I help you today?')\n",
    "        # User Input\n",
    "        if checkNumber(preprocess(orderInput)) == False:\n",
    "            print(\"Sorry! We only serve one pizza at a time!\")\n",
    "        else:\n",
    "            flagNoTypo = 0\n",
    "            # Get Pizza Order\n",
    "            ## Pizza name is exactly the same with the raw input\n",
    "            for pizzaName in listOfPizza:\n",
    "                if pizzaName.lower() in orderInput.lower():\n",
    "                    flagNoTypo = 1\n",
    "                    print(f'yes its {pizzaName}') ## Function to process the pizza\n",
    "            \n",
    "            # 1 Means no typo\n",
    "            if flagNoTypo == 1:\n",
    "                print('thankyou for using this program')\n",
    "            else:\n",
    "                repromptPizza = input('Can you please reinput your pizza name?')\n",
    "                ## Check for typos per pizza\n",
    "                flagCheckTypo = 0\n",
    "                for checkPizza in listOfPizza:\n",
    "                    if checkTypo(checkPizza.lower(), repromptPizza) == 100:\n",
    "                        print('Understood')\n",
    "                        break\n",
    "                    elif checkTypo(checkPizza.lower(), repromptPizza) > 80:\n",
    "                        print(f'Do you mean by {checkPizza.capitalize()}?')\n",
    "                        break\n",
    "\n",
    "                print('I am sorry, I didnt quite get that! Do you want to re-enter your order?')\n",
    "\n",
    "            "
   ]
  }
 ],
 "metadata": {
  "kernelspec": {
   "display_name": "Python 3.9.12 ('venv': venv)",
   "language": "python",
   "name": "python3"
  },
  "language_info": {
   "name": "python",
   "version": "3.9.12"
  },
  "orig_nbformat": 4,
  "vscode": {
   "interpreter": {
    "hash": "b4dc0063afee51790d21509908861b8c67a34e8f41aa380f61f8bce3c0d0317f"
   }
  }
 },
 "nbformat": 4,
 "nbformat_minor": 2
}
