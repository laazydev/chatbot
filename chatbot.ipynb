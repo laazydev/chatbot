{
 "cells": [
  {
   "cell_type": "code",
   "execution_count": null,
   "metadata": {},
   "outputs": [],
   "source": [
    "# Get the data from JSON\n",
    "import json\n",
    "\n",
    "intentFile = open('./data/intents.json').read()\n",
    "intents = json.loads(intentFile)"
   ]
  },
  {
   "cell_type": "code",
   "execution_count": null,
   "metadata": {},
   "outputs": [],
   "source": [
    "# Download stopwords from NLTK\n",
    "import nltk\n",
    "from nltk.corpus import stopwords\n",
    "nltk.download('stopwords')\n",
    "stopwords = stopwords.words('english')\n",
    "\n",
    "# Remove negation\n",
    "stopwords.remove('not')"
   ]
  },
  {
   "cell_type": "code",
   "execution_count": null,
   "metadata": {},
   "outputs": [],
   "source": [
    "# Import libraries\n",
    "import nltk\n",
    "from nltk.tokenize import word_tokenize\n",
    "import string\n",
    "\n",
    "# Preprocess the intent\n",
    "def preprocess(textinput):\n",
    "    textinput = textinput.lower()\n",
    "\n",
    "    # Remove punctuations\n",
    "    string.punctuation = string.punctuation + '-'\n",
    "    text_filtered = ''.join([char for char in textinput if char not in string.punctuation])\n",
    "\n",
    "    # Tokenize the word\n",
    "    text_tokens = word_tokenize(text_filtered)\n",
    "\n",
    "    # Remove stopword from the text\n",
    "    tokens_without_sw = [word for word in text_tokens if word.lower() not in stopwords]\n",
    "\n",
    "    # Removing any stopwords from the sentence\n",
    "    filtered_sentence = (\" \").join(tokens_without_sw)\n",
    "\n",
    "    post = nltk.pos_tag(word_tokenize(filtered_sentence), tagset='universal') \n",
    "    return post"
   ]
  },
  {
   "cell_type": "code",
   "execution_count": null,
   "metadata": {},
   "outputs": [],
   "source": [
    "drinks = []\n",
    "for drink in range(len(intents['classes'])):\n",
    "    drinks.append(intents['classes'][drink]['keyword'][0])"
   ]
  },
  {
   "cell_type": "code",
   "execution_count": null,
   "metadata": {},
   "outputs": [],
   "source": [
    "positive_bool = ['yes', 'yesh', 'yeah', 'yup', 'yea', 'yuh']\n",
    "negative_bool= ['no', 'noh', 'nope', 'nah', 'naur', 'naw']"
   ]
  },
  {
   "cell_type": "code",
   "execution_count": null,
   "metadata": {},
   "outputs": [],
   "source": [
    "# Check for order\n",
    "triggerWordR1 = ['want', 'order', 'buy', 'would like']\n",
    "\n",
    "def r1():\n",
    "    # 0 for no, 1 for yes``\n",
    "    r1_flag1 = 0\n",
    "    for i in range(0, 2):\n",
    "        r1_prompt1 = input('Do you want to order a coffee?')\n",
    "\n",
    "        if r1_prompt1 in positive_bool:\n",
    "            r1_flag1 = 1\n",
    "            break\n",
    "        elif r1_prompt1 in negative_bool:\n",
    "            r1_flag1 = -1\n",
    "            break\n",
    "        else:\n",
    "            print('I am not sure I understand. Please say either Yes or No')\n",
    "    \n",
    "    if r1_flag1 == 1:\n",
    "        return 1\n",
    "    elif r1_flag1 == -1:\n",
    "        return -1\n",
    "    else:\n",
    "        return 0"
   ]
  },
  {
   "cell_type": "code",
   "execution_count": 64,
   "metadata": {},
   "outputs": [],
   "source": [
    "# Check for typos\n",
    "import difflib\n",
    "\n",
    "def checkTypo(a, b):\n",
    "    seq = difflib.SequenceMatcher(None, a, b)\n",
    "    d = seq.ratio()*100\n",
    "    return d"
   ]
  },
  {
   "cell_type": "code",
   "execution_count": 75,
   "metadata": {},
   "outputs": [
    {
     "name": "stdout",
     "output_type": "stream",
     "text": [
      "I am not sure I understand\n"
     ]
    },
    {
     "data": {
      "text/plain": [
       "[]"
      ]
     },
     "execution_count": 75,
     "metadata": {},
     "output_type": "execute_result"
    }
   ],
   "source": [
    "coffeeNameList = ['flat black', 'flat white', 'americano', 'latte', 'cortado', 'mocha', 'italia', 'espresso']\n",
    "\n",
    "def r2():\n",
    "    r2_flag1 = []\n",
    "    r2_prompt1 = input(\"What coffee do you want?\")\n",
    "    temp = preprocess(r2_prompt1)\n",
    "\n",
    "    wordList = []\n",
    "    for word in temp:\n",
    "        wordList.append(word[0])\n",
    "\n",
    "    # No typo\n",
    "    for a in range(len(wordList)):\n",
    "        # For flat white/flat black\n",
    "        if wordList[a] == 'flat':\n",
    "            if wordList[a+1] == 'black':\n",
    "                r2_flag1.append('flatblack')\n",
    "            elif wordList[a+1] == 'white':\n",
    "                r2_flag1.append('flagwhite')\n",
    "        \n",
    "        # For other coffee\n",
    "        elif wordList[a] in coffeeNameList:\n",
    "            r2_flag1.append(wordList[a])\n",
    "\n",
    "        # For minor typos\n",
    "        else:\n",
    "            for coffee in coffeeNameList:\n",
    "                typoConf = checkTypo(coffee, wordList[a])\n",
    "                if typoConf > 70:\n",
    "                    r2_prompt2 = input(f'Do yo mean by {coffee}?')\n",
    "                    if r2_prompt2 in positive_bool:\n",
    "                        r2_flag1.append(coffee)\n",
    "                        break\n",
    "                    elif r2_prompt2 in negative_bool:\n",
    "                        r2_flag1.append(coffee)\n",
    "                        break\n",
    "                    else:\n",
    "                        print('I am not sure I understand')\n",
    "    \n",
    "    return r2_flag1\n",
    "                \n",
    "r2()"
   ]
  },
  {
   "cell_type": "code",
   "execution_count": 63,
   "metadata": {},
   "outputs": [
    {
     "name": "stdout",
     "output_type": "stream",
     "text": [
      "94.73684210526315\n"
     ]
    }
   ],
   "source": [
    "def r3():\n",
    "    "
   ]
  },
  {
   "cell_type": "code",
   "execution_count": null,
   "metadata": {},
   "outputs": [],
   "source": []
  },
  {
   "cell_type": "code",
   "execution_count": null,
   "metadata": {},
   "outputs": [],
   "source": [
    "# Check whether the\n",
    "\n",
    "\n",
    "def r3(text):\n",
    "    # Flag 2 100% similarity, Flag 1 recognizable typo, Flag 0 not understandable\n",
    "    flag = 0\n",
    "    # No typo scenario\n",
    "    for token in text:\n",
    "        if token[0] in drinks:\n",
    "            return token[0]\n",
    "        else:\n",
    "            pass\n"
   ]
  },
  {
   "cell_type": "code",
   "execution_count": null,
   "metadata": {},
   "outputs": [],
   "source": [
    "trialText = 'i want to have an americano'\n",
    "temp = preprocess(trialText)\n",
    "print(r3(temp))"
   ]
  },
  {
   "cell_type": "code",
   "execution_count": null,
   "metadata": {},
   "outputs": [],
   "source": [
    "# Chatbot Interfact\n",
    "\n",
    "# Initial Input\n",
    "initialInput = input('How can I help you today?')\n"
   ]
  }
 ],
 "metadata": {
  "kernelspec": {
   "display_name": "Python 3.9.12 ('venv': venv)",
   "language": "python",
   "name": "python3"
  },
  "language_info": {
   "codemirror_mode": {
    "name": "ipython",
    "version": 3
   },
   "file_extension": ".py",
   "mimetype": "text/x-python",
   "name": "python",
   "nbconvert_exporter": "python",
   "pygments_lexer": "ipython3",
   "version": "3.9.12"
  },
  "orig_nbformat": 4,
  "vscode": {
   "interpreter": {
    "hash": "b4dc0063afee51790d21509908861b8c67a34e8f41aa380f61f8bce3c0d0317f"
   }
  }
 },
 "nbformat": 4,
 "nbformat_minor": 2
}
