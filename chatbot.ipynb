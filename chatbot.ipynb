{
 "cells": [
  {
   "cell_type": "code",
   "execution_count": 1,
   "metadata": {},
   "outputs": [
    {
     "name": "stderr",
     "output_type": "stream",
     "text": [
      "[nltk_data] Downloading package stopwords to /Users/jr/nltk_data...\n",
      "[nltk_data]   Package stopwords is already up-to-date!\n"
     ]
    }
   ],
   "source": [
    "### Import the functions from the other documents\n",
    "# Import functions from funtions.py\n",
    "from func.functions import NewCustomer, GetCustomer, checkPhone, negationCheck, isOrder, isPizza, getPizzaList, boolConfirm, getReceipt\n",
    "\n",
    "# Import preprocess functions from preprocess.py\n",
    "from func.preprocess import preprocess, text_to_vector, get_cosine, checkTypo\n",
    "\n",
    "# Import Order related functions from orderFunction.py\n",
    "from func.orderFunction import checkNumber, confirmation, Checkpoint"
   ]
  },
  {
   "cell_type": "code",
   "execution_count": 2,
   "metadata": {},
   "outputs": [],
   "source": [
    "### Import online library\n",
    "import pandas as pd"
   ]
  },
  {
   "cell_type": "code",
   "execution_count": 3,
   "metadata": {},
   "outputs": [],
   "source": [
    "# Loading local database\n",
    "pizza_df= pd.read_csv('pizza.csv', sep=';')\n",
    "\n",
    "# Create list of all pizza name\n",
    "listOfPizza = []\n",
    "for pizzaKind in pizza_df['pizzaName'].unique():\n",
    "    listOfPizza.append(pizzaKind)\n",
    "\n",
    "# Loading customer database\n",
    "customer = pd.read_csv('database/customer.csv')"
   ]
  },
  {
   "cell_type": "code",
   "execution_count": 5,
   "metadata": {},
   "outputs": [],
   "source": [
    "# Define the Pizza Class\n",
    "from pizza import Pizza"
   ]
  },
  {
   "cell_type": "code",
   "execution_count": null,
   "metadata": {},
   "outputs": [],
   "source": [
    "# Defining some initial variables\n",
    "\n",
    "### Receipt\n",
    "receipt = []\n",
    "pizzaOrder = []\n",
    "firstEntry = True"
   ]
  },
  {
   "cell_type": "code",
   "execution_count": 12,
   "metadata": {},
   "outputs": [
    {
     "name": "stdout",
     "output_type": "stream",
     "text": [
      "Pizzy: For now, I will only be taking orders for Pizzas. Would like to have some?\n",
      " You:\n",
      "General talk huh\n",
      "General talk huh\n",
      "General talk huh\n",
      "General talk huh\n",
      "General talk huh\n",
      "General talk huh\n",
      "General talk huh\n",
      "General talk huh\n",
      "General talk huh\n",
      "General talk huh\n"
     ]
    },
    {
     "ename": "KeyboardInterrupt",
     "evalue": "Interrupted by user",
     "output_type": "error",
     "traceback": [
      "\u001b[0;31m---------------------------------------------------------------------------\u001b[0m",
      "\u001b[0;31mKeyboardInterrupt\u001b[0m                         Traceback (most recent call last)",
      "Cell \u001b[0;32mIn [12], line 25\u001b[0m\n\u001b[1;32m     22\u001b[0m         rawInput \u001b[39m=\u001b[39m \u001b[39minput\u001b[39m(\u001b[39mf\u001b[39m\u001b[39m'\u001b[39m\u001b[39mPizzy: Hi! We havent been friends before. How can I help you today?\u001b[39m\u001b[39m\\n\u001b[39;00m\u001b[39mYou: \u001b[39m\u001b[39m'\u001b[39m)\n\u001b[1;32m     23\u001b[0m     \u001b[39melse\u001b[39;00m:\n\u001b[1;32m     24\u001b[0m         \u001b[39m# Returning Customer [DONE]\u001b[39;00m\n\u001b[0;32m---> 25\u001b[0m         rawInput \u001b[39m=\u001b[39m \u001b[39minput\u001b[39;49m(\u001b[39mf\u001b[39;49m\u001b[39m'\u001b[39;49m\u001b[39mPizzy: Welcome back \u001b[39;49m\u001b[39m{\u001b[39;49;00misCust[\u001b[39m0\u001b[39;49m]\u001b[39m.\u001b[39;49mcapitalize()\u001b[39m}\u001b[39;49;00m\u001b[39m! How can I help you today?\u001b[39;49m\u001b[39m\\n\u001b[39;49;00m\u001b[39mYou: \u001b[39;49m\u001b[39m'\u001b[39;49m)\n\u001b[1;32m     27\u001b[0m \u001b[39melse\u001b[39;00m:\n\u001b[1;32m     28\u001b[0m     \u001b[39m# Second pizza\u001b[39;00m\n\u001b[1;32m     29\u001b[0m     rawInput \u001b[39m=\u001b[39m \u001b[39minput\u001b[39m(\u001b[39m'\u001b[39m\u001b[39mPizzy: What will be your next pizza?\u001b[39m\u001b[39m\\n\u001b[39;00m\u001b[39mYou:\u001b[39m\u001b[39m'\u001b[39m)\n",
      "File \u001b[0;32m~/Library/Mobile Documents/com~apple~CloudDocs/Notts/Human AI Interaction/Coursework 1/chatbot/venv/lib/python3.9/site-packages/ipykernel/kernelbase.py:1177\u001b[0m, in \u001b[0;36mKernel.raw_input\u001b[0;34m(self, prompt)\u001b[0m\n\u001b[1;32m   1173\u001b[0m \u001b[39mif\u001b[39;00m \u001b[39mnot\u001b[39;00m \u001b[39mself\u001b[39m\u001b[39m.\u001b[39m_allow_stdin:\n\u001b[1;32m   1174\u001b[0m     \u001b[39mraise\u001b[39;00m StdinNotImplementedError(\n\u001b[1;32m   1175\u001b[0m         \u001b[39m\"\u001b[39m\u001b[39mraw_input was called, but this frontend does not support input requests.\u001b[39m\u001b[39m\"\u001b[39m\n\u001b[1;32m   1176\u001b[0m     )\n\u001b[0;32m-> 1177\u001b[0m \u001b[39mreturn\u001b[39;00m \u001b[39mself\u001b[39;49m\u001b[39m.\u001b[39;49m_input_request(\n\u001b[1;32m   1178\u001b[0m     \u001b[39mstr\u001b[39;49m(prompt),\n\u001b[1;32m   1179\u001b[0m     \u001b[39mself\u001b[39;49m\u001b[39m.\u001b[39;49m_parent_ident[\u001b[39m\"\u001b[39;49m\u001b[39mshell\u001b[39;49m\u001b[39m\"\u001b[39;49m],\n\u001b[1;32m   1180\u001b[0m     \u001b[39mself\u001b[39;49m\u001b[39m.\u001b[39;49mget_parent(\u001b[39m\"\u001b[39;49m\u001b[39mshell\u001b[39;49m\u001b[39m\"\u001b[39;49m),\n\u001b[1;32m   1181\u001b[0m     password\u001b[39m=\u001b[39;49m\u001b[39mFalse\u001b[39;49;00m,\n\u001b[1;32m   1182\u001b[0m )\n",
      "File \u001b[0;32m~/Library/Mobile Documents/com~apple~CloudDocs/Notts/Human AI Interaction/Coursework 1/chatbot/venv/lib/python3.9/site-packages/ipykernel/kernelbase.py:1219\u001b[0m, in \u001b[0;36mKernel._input_request\u001b[0;34m(self, prompt, ident, parent, password)\u001b[0m\n\u001b[1;32m   1216\u001b[0m             \u001b[39mbreak\u001b[39;00m\n\u001b[1;32m   1217\u001b[0m \u001b[39mexcept\u001b[39;00m \u001b[39mKeyboardInterrupt\u001b[39;00m:\n\u001b[1;32m   1218\u001b[0m     \u001b[39m# re-raise KeyboardInterrupt, to truncate traceback\u001b[39;00m\n\u001b[0;32m-> 1219\u001b[0m     \u001b[39mraise\u001b[39;00m \u001b[39mKeyboardInterrupt\u001b[39;00m(\u001b[39m\"\u001b[39m\u001b[39mInterrupted by user\u001b[39m\u001b[39m\"\u001b[39m) \u001b[39mfrom\u001b[39;00m \u001b[39mNone\u001b[39m\n\u001b[1;32m   1220\u001b[0m \u001b[39mexcept\u001b[39;00m \u001b[39mException\u001b[39;00m:\n\u001b[1;32m   1221\u001b[0m     \u001b[39mself\u001b[39m\u001b[39m.\u001b[39mlog\u001b[39m.\u001b[39mwarning(\u001b[39m\"\u001b[39m\u001b[39mInvalid Message:\u001b[39m\u001b[39m\"\u001b[39m, exc_info\u001b[39m=\u001b[39m\u001b[39mTrue\u001b[39;00m)\n",
      "\u001b[0;31mKeyboardInterrupt\u001b[0m: Interrupted by user"
     ]
    }
   ],
   "source": [
    "\n",
    "### Main Chatbot code starts here ###\n",
    "### Reworking on the flow of the chatbot ###\n",
    "\n",
    "initialInput = input('Pizzy: Greetings! Before we proceed, may I know your phone number? \\nYou: ')\n",
    "\n",
    "# Check for phone number [CHECK POINT 1]\n",
    "isCust = GetCustomer(checkPhone(initialInput)[1])\n",
    "\n",
    "# Final Receipt\n",
    "receipt = []\n",
    "\n",
    "firstEntry = True\n",
    "\n",
    "# List of pizza getting ordered\n",
    "pizzaOrder = []\n",
    "while True:\n",
    "    CheckpointOutput = []\n",
    "    if firstEntry == True:\n",
    "        # If isCust returns None, means the person is not in database\n",
    "        if isCust == None:\n",
    "            # New Customer [DONE]\n",
    "            rawInput = input(f'Pizzy: Hi! We havent been friends before. How can I help you today?\\nYou: ')\n",
    "        else:\n",
    "            # Returning Customer [DONE]\n",
    "            rawInput = input(f'Pizzy: Welcome back {isCust[0].capitalize()}! How can I help you today?\\nYou: ')\n",
    "\n",
    "    else:\n",
    "        # Second pizza\n",
    "        rawInput = input('Pizzy: What will be your next pizza?\\nYou:')\n",
    "\n",
    "    # Check if any pizza name is in the [DONE]\n",
    "    for pizzas in listOfPizza:\n",
    "        if pizzas in rawInput:\n",
    "            pizzaOrder.append(pizzas)\n",
    "            CheckpointOutput = []\n",
    "            CheckpointOutput.append(pizzas)\n",
    "        else:\n",
    "            pass\n",
    "\n",
    "    ## Checking whether pizza name exist in the rawInput\n",
    "    # 1 Pizza Exist [DONE]\n",
    "    if len(pizzaOrder) == 1:\n",
    "        if negationCheck(rawInput) == False:\n",
    "            tempNegation = [pOrder for pOrder in pizzaOrder][0]\n",
    "            finalCheck = input(f'Pizzy: To confirm, do you want to order {tempNegation.capitalize()}?\\nYou: ')\n",
    "            # Final confirmation before proceeding to pizza detail\n",
    "            if boolConfirm(finalCheck) == 1:\n",
    "                CheckpointOutput.append(tempNegation)\n",
    "        else:\n",
    "            # There is negation\n",
    "            print('what do u want?')\n",
    "    # More than 1 pizza exists\n",
    "    elif len(pizzaOrder) > 1:\n",
    "        print('Pizzy: Sorry! we only serve one pizza at a time! You can place the next one after finishing one pizza.')\n",
    "    # No Pizza exists\n",
    "    elif len(pizzaOrder) == 0:\n",
    "        # No name pizza exist\n",
    "        # Order trigger word exist\n",
    "        if isOrder(rawInput) == True:\n",
    "\n",
    "            # Word pizza exist\n",
    "            if isPizza(rawInput) == True:\n",
    "                \n",
    "                CheckpointOutput = Checkpoint(listOfPizza, pizza_df)\n",
    "\n",
    "            # Word pizza not exist\n",
    "            else:\n",
    "                print('Pizzy: For now, I will only be taking orders for Pizzas. Would like to have some?\\n You:')\n",
    "                \n",
    "        # Order trigger word is not exist\n",
    "        else:\n",
    "            print('General talk huh')\n",
    "\n",
    "    if len(CheckpointOutput) == 1:\n",
    "        sizeChoice = []\n",
    "        crustChoice = []\n",
    "        currentOrder = Pizza(CheckpointOutput[0])\n",
    "        sizeAvail = currentOrder.getSize().split(',')\n",
    "        crustAvail = currentOrder.getCrust().split(',')\n",
    "        # Taking size\n",
    "        while True:\n",
    "            sizePrompt = input(f'Pizzy: The available size are {[sizes for sizes in sizeAvail]}. Which size do you want?\\n')\n",
    "            if sizePrompt in sizeAvail:\n",
    "                sizeChoice.append(sizePrompt)\n",
    "                break\n",
    "            elif sizePrompt == 'quit':\n",
    "                break\n",
    "            else:\n",
    "                print('Pizzy: Please enter a valid size')\n",
    "\n",
    "        # Taking crust\n",
    "        while True:\n",
    "            crustPrompt = input(f'Pizzy: The available crusts are {[crusts for crusts in crustAvail]}. Which size do you want?')\n",
    "            if crustPrompt in crustAvail:\n",
    "                crustChoice.append(crustPrompt)\n",
    "                break\n",
    "            elif crustPrompt == 'quit':\n",
    "                break\n",
    "            else:\n",
    "                print('Pizzy: Please enter a valid crust')\n",
    "\n",
    "        # Append pizza to the receipt\n",
    "        receipt.append(list([f'Pizzy: {sizeChoice[0].capitalize()} {CheckpointOutput[0].capitalize()} with {crustChoice[0]}.', currentOrder.getPrice()]))\n",
    "        \n",
    "        anotherOrder = input('Pizzy: Do you want to have another pizza?\\n You: ')\n",
    "        if boolConfirm(anotherOrder) == 1:\n",
    "            firstEntry = False\n",
    "        else:\n",
    "            break\n",
    "\n",
    "print(getReceipt(receipt))"
   ]
  },
  {
   "cell_type": "code",
   "execution_count": 10,
   "metadata": {},
   "outputs": [
    {
     "data": {
      "text/plain": [
       "('jeconiah', '6 Graystacks NG71GY')"
      ]
     },
     "execution_count": 10,
     "metadata": {},
     "output_type": "execute_result"
    }
   ],
   "source": [
    "phoneNum = input('Pizza: Greetings! Before we proceed, may I know your phone number? \\n You: ')\n",
    "isCust = GetCustomer(checkPhone(phoneNum)[1])\n",
    "isCust"
   ]
  }
 ],
 "metadata": {
  "kernelspec": {
   "display_name": "venv",
   "language": "python",
   "name": "python3"
  },
  "language_info": {
   "codemirror_mode": {
    "name": "ipython",
    "version": 3
   },
   "file_extension": ".py",
   "mimetype": "text/x-python",
   "name": "python",
   "nbconvert_exporter": "python",
   "pygments_lexer": "ipython3",
   "version": "3.9.12"
  },
  "orig_nbformat": 4,
  "vscode": {
   "interpreter": {
    "hash": "b4dc0063afee51790d21509908861b8c67a34e8f41aa380f61f8bce3c0d0317f"
   }
  }
 },
 "nbformat": 4,
 "nbformat_minor": 2
}
