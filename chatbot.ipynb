{
 "cells": [
  {
   "cell_type": "markdown",
   "metadata": {},
   "source": [
    "# List of functions needed for the Chatbot\n",
    "This file contains the development of functions required for the chatbot\n",
    "\n",
    "### Intent reading function\n",
    "- Preprocessing: Includes **Lowering all characters, Removing punctuations and stopwords**, then, **Lemmatize the sentence**.\n",
    "- GetIntentRank: This return the highest intents from the sentence.\n",
    "\n",
    "*Note: If there are two or more intents, further processing is required*\n",
    "- IntentProcessing: From the intent available, call the functions for further processing\n",
    "\n",
    "### Classes\n",
    "There will be classes assigned for each **Order** and **Person**, and will be assigned as a class. The class details are as follows.\n",
    "\n",
    "- Person\n",
    "```\n",
    "Name: String\n",
    "Phone: String\n",
    "Address: String\n",
    "```\n",
    "\n"
   ]
  },
  {
   "cell_type": "code",
   "execution_count": 46,
   "metadata": {},
   "outputs": [
    {
     "name": "stdout",
     "output_type": "stream",
     "text": [
      "   id              name       phone               address\n",
      "0   1          jeconiah  7769585517   6 Graystacks NG71GY\n",
      "1   2  calvin scorpiano  7287922576  6 Graystacks NG71 GY\n"
     ]
    }
   ],
   "source": [
    "# Beginning of Chatbot\n",
    "import pandas as pd\n",
    "\n",
    "df = pd.read_csv('database/customer.csv')\n",
    "\n",
    "print(df)"
   ]
  },
  {
   "cell_type": "code",
   "execution_count": 43,
   "metadata": {},
   "outputs": [],
   "source": [
    "# Data to append to\n",
    "\n",
    "def NewCustomer(name, phone, address):\n",
    "    # Read the latest CSV\n",
    "    df = pd.read_csv('database/customer.csv')\n",
    "    \n",
    "    # Get the last index, then plus 1\n",
    "    newId = df.iloc[-1, 0] + 1\n",
    "    data = {\n",
    "        'id': newId,\n",
    "        'name': name.lower(),\n",
    "        'phone': str(phone),\n",
    "        'address': address\n",
    "    }\n",
    "\n",
    "    # Convert the Dictionary to DataFrame\n",
    "    toAppend = pd.DataFrame(data, index=[1])\n",
    "\n",
    "    # Append the dataframe to tht CSV\n",
    "    toAppend.to_csv('database/customer.csv', mode='a', index=False, header=False)\n"
   ]
  },
  {
   "cell_type": "code",
   "execution_count": 45,
   "metadata": {},
   "outputs": [],
   "source": [
    "# Testing the newCustomer Function to create new Customer\n",
    "\n",
    "NewCustomer('Calvin Scorpiano', '07287922576', '6 Graystacks NG71 GY')\n",
    "# Tested and worked!"
   ]
  },
  {
   "cell_type": "code",
   "execution_count": 108,
   "metadata": {},
   "outputs": [],
   "source": [
    "def GetCustomer(phone):\n",
    "    df = pd.read_csv('database/customer.csv')\n",
    "\n",
    "    for idrange in range(len(df)):\n",
    "        if df.iloc[idrange, 2] == int(phone):\n",
    "            return df.iloc[idrange, 1], df.iloc[idrange, 3]\n",
    "        else:\n",
    "            pass"
   ]
  },
  {
   "cell_type": "code",
   "execution_count": 111,
   "metadata": {},
   "outputs": [
    {
     "name": "stdout",
     "output_type": "stream",
     "text": [
      "('jeconiah', '6 Graystacks NG71GY')\n"
     ]
    }
   ],
   "source": [
    "# Testing Get Customer based on phone number\n",
    "\n",
    "print(GetCustomer('7769585517'))\n",
    "# Tested and worked!"
   ]
  },
  {
   "cell_type": "code",
   "execution_count": null,
   "metadata": {},
   "outputs": [],
   "source": []
  }
 ],
 "metadata": {
  "kernelspec": {
   "display_name": "Python 3.9.12 ('venv': venv)",
   "language": "python",
   "name": "python3"
  },
  "language_info": {
   "codemirror_mode": {
    "name": "ipython",
    "version": 3
   },
   "file_extension": ".py",
   "mimetype": "text/x-python",
   "name": "python",
   "nbconvert_exporter": "python",
   "pygments_lexer": "ipython3",
   "version": "3.9.12"
  },
  "orig_nbformat": 4,
  "vscode": {
   "interpreter": {
    "hash": "b4dc0063afee51790d21509908861b8c67a34e8f41aa380f61f8bce3c0d0317f"
   }
  }
 },
 "nbformat": 4,
 "nbformat_minor": 2
}
